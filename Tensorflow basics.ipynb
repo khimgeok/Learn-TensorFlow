{
 "cells": [
  {
   "cell_type": "markdown",
   "id": "correct-bahamas",
   "metadata": {},
   "source": [
    "# TensorFlow basics"
   ]
  },
  {
   "cell_type": "code",
   "execution_count": 1,
   "id": "significant-combine",
   "metadata": {},
   "outputs": [
    {
     "name": "stdout",
     "output_type": "stream",
     "text": [
      "2.4.1\n"
     ]
    }
   ],
   "source": [
    "# import tensorflow with alias tf \n",
    "import tensorflow as tf\n",
    "print(tf.__version__)"
   ]
  },
  {
   "cell_type": "markdown",
   "id": "approximate-wisdom",
   "metadata": {},
   "source": [
    "### 1. Creating Tensors"
   ]
  },
  {
   "cell_type": "markdown",
   "id": "opened-turner",
   "metadata": {},
   "source": [
    "**Create Tensors using tf.constant**"
   ]
  },
  {
   "cell_type": "code",
   "execution_count": 2,
   "id": "medium-savannah",
   "metadata": {},
   "outputs": [
    {
     "data": {
      "text/plain": [
       "<tf.Tensor: shape=(), dtype=int32, numpy=7>"
      ]
     },
     "execution_count": 2,
     "metadata": {},
     "output_type": "execute_result"
    }
   ],
   "source": [
    "# create a tensor with tf.constant()\n",
    "scalar = tf.constant(7)\n",
    "scalar"
   ]
  },
  {
   "cell_type": "code",
   "execution_count": 3,
   "id": "empirical-impossible",
   "metadata": {},
   "outputs": [
    {
     "data": {
      "text/plain": [
       "0"
      ]
     },
     "execution_count": 3,
     "metadata": {},
     "output_type": "execute_result"
    }
   ],
   "source": [
    "# check number of dimensions of a tensor (ndim stands for number of dimensions)\n",
    "scalar.ndim"
   ]
  },
  {
   "cell_type": "code",
   "execution_count": 4,
   "id": "sufficient-typing",
   "metadata": {},
   "outputs": [
    {
     "data": {
      "text/plain": [
       "<tf.Tensor: shape=(2,), dtype=float32, numpy=array([10., 10.], dtype=float32)>"
      ]
     },
     "execution_count": 4,
     "metadata": {},
     "output_type": "execute_result"
    }
   ],
   "source": [
    "# create a vector\n",
    "vector = tf.constant([10.,10.])\n",
    "vector"
   ]
  },
  {
   "cell_type": "code",
   "execution_count": 5,
   "id": "sorted-protein",
   "metadata": {},
   "outputs": [
    {
     "data": {
      "text/plain": [
       "1"
      ]
     },
     "execution_count": 5,
     "metadata": {},
     "output_type": "execute_result"
    }
   ],
   "source": [
    "# check dimension of vector\n",
    "vector.ndim"
   ]
  },
  {
   "cell_type": "code",
   "execution_count": 6,
   "id": "driving-tomorrow",
   "metadata": {},
   "outputs": [
    {
     "data": {
      "text/plain": [
       "<tf.Tensor: shape=(2, 2), dtype=float32, numpy=\n",
       "array([[1., 2.],\n",
       "       [4., 5.]], dtype=float32)>"
      ]
     },
     "execution_count": 6,
     "metadata": {},
     "output_type": "execute_result"
    }
   ],
   "source": [
    "# create a matrix\n",
    "matrix = tf.constant([[1.,2.],\n",
    "                      [4.,5.]])\n",
    "matrix"
   ]
  },
  {
   "cell_type": "code",
   "execution_count": 7,
   "id": "careful-practitioner",
   "metadata": {},
   "outputs": [
    {
     "data": {
      "text/plain": [
       "2"
      ]
     },
     "execution_count": 7,
     "metadata": {},
     "output_type": "execute_result"
    }
   ],
   "source": [
    "# check dimension of matrix\n",
    "matrix.ndim"
   ]
  },
  {
   "cell_type": "code",
   "execution_count": 8,
   "id": "medieval-contrary",
   "metadata": {},
   "outputs": [
    {
     "data": {
      "text/plain": [
       "<tf.Tensor: shape=(3, 2), dtype=float16, numpy=\n",
       "array([[3., 4.],\n",
       "       [4., 5.],\n",
       "       [8., 9.]], dtype=float16)>"
      ]
     },
     "execution_count": 8,
     "metadata": {},
     "output_type": "execute_result"
    }
   ],
   "source": [
    "# create another matrix\n",
    "another_matrix = tf.constant([[3.,4.],\n",
    "                              [4.,5.],\n",
    "                              [8.,9.]], dtype=tf.float16) # specify the data type\n",
    "another_matrix"
   ]
  },
  {
   "cell_type": "code",
   "execution_count": 9,
   "id": "decimal-booth",
   "metadata": {},
   "outputs": [
    {
     "data": {
      "text/plain": [
       "2"
      ]
     },
     "execution_count": 9,
     "metadata": {},
     "output_type": "execute_result"
    }
   ],
   "source": [
    "# check dimension of another matrix\n",
    "another_matrix.ndim"
   ]
  },
  {
   "cell_type": "code",
   "execution_count": 10,
   "id": "divine-proposal",
   "metadata": {},
   "outputs": [
    {
     "data": {
      "text/plain": [
       "<tf.Tensor: shape=(3, 2, 3), dtype=int32, numpy=\n",
       "array([[[ 1,  2,  3],\n",
       "        [ 4,  5,  6]],\n",
       "\n",
       "       [[ 7,  8,  9],\n",
       "        [10, 11, 12]],\n",
       "\n",
       "       [[13, 14, 15],\n",
       "        [16, 17, 18]]])>"
      ]
     },
     "execution_count": 10,
     "metadata": {},
     "output_type": "execute_result"
    }
   ],
   "source": [
    "# let's create a tensor\n",
    "tensor = tf.constant([[[1,2,3],\n",
    "                       [4,5,6]],\n",
    "                      [[7,8,9],\n",
    "                      [10,11,12]],\n",
    "                     [[13,14,15],\n",
    "                     [16,17,18]]])\n",
    "tensor"
   ]
  },
  {
   "cell_type": "code",
   "execution_count": 11,
   "id": "african-caribbean",
   "metadata": {},
   "outputs": [
    {
     "data": {
      "text/plain": [
       "3"
      ]
     },
     "execution_count": 11,
     "metadata": {},
     "output_type": "execute_result"
    }
   ],
   "source": [
    "# check dimension of tensor\n",
    "tensor.ndim"
   ]
  },
  {
   "cell_type": "markdown",
   "id": "homeless-objective",
   "metadata": {},
   "source": [
    "**What we've created so far:**\n",
    "1. Scalar: a single number  \n",
    "2. Vector: a number with direction (e.g. wind speed and direction)  \n",
    "3. Matrix: a 2-dimensional array of numbers   \n",
    "4. Tensor: an n-dimensional array of numbers (where n can be any number, a 0-dimensional tensor is a scalar and a 1-dimensional tensor is a vector)"
   ]
  },
  {
   "cell_type": "markdown",
   "id": "appreciated-allocation",
   "metadata": {},
   "source": [
    "**Create Tensors using tf.Variable**"
   ]
  },
  {
   "cell_type": "code",
   "execution_count": 12,
   "id": "sustainable-guard",
   "metadata": {},
   "outputs": [
    {
     "data": {
      "text/plain": [
       "(<tf.Variable 'Variable:0' shape=(2,) dtype=int32, numpy=array([10,  7])>,\n",
       " <tf.Tensor: shape=(2,), dtype=int32, numpy=array([10,  7])>)"
      ]
     },
     "execution_count": 12,
     "metadata": {},
     "output_type": "execute_result"
    }
   ],
   "source": [
    "# create the same tensor with tf.Variable() as above\n",
    "changeable_tensor = tf.Variable([10,7])\n",
    "unchangeable_tensor = tf.constant([10,7])\n",
    "changeable_tensor, unchangeable_tensor"
   ]
  },
  {
   "cell_type": "code",
   "execution_count": 13,
   "id": "wrapped-phoenix",
   "metadata": {},
   "outputs": [
    {
     "data": {
      "text/plain": [
       "<tf.Variable 'Variable:0' shape=(2,) dtype=int32, numpy=array([7, 7])>"
      ]
     },
     "execution_count": 13,
     "metadata": {},
     "output_type": "execute_result"
    }
   ],
   "source": [
    "# let's try to change one of the elements in our changeable tensor\n",
    "changeable_tensor[0].assign(7)\n",
    "changeable_tensor # observe that tensor index 0 has been updated to 7"
   ]
  },
  {
   "cell_type": "code",
   "execution_count": 14,
   "id": "fifty-operations",
   "metadata": {},
   "outputs": [
    {
     "ename": "AttributeError",
     "evalue": "'tensorflow.python.framework.ops.EagerTensor' object has no attribute 'assign'",
     "output_type": "error",
     "traceback": [
      "\u001b[1;31m---------------------------------------------------------------------------\u001b[0m",
      "\u001b[1;31mAttributeError\u001b[0m                            Traceback (most recent call last)",
      "\u001b[1;32m<ipython-input-14-5631b5b0f745>\u001b[0m in \u001b[0;36m<module>\u001b[1;34m\u001b[0m\n\u001b[0;32m      1\u001b[0m \u001b[1;31m# let's try to change one of the elements in our unchangeable tensor\u001b[0m\u001b[1;33m\u001b[0m\u001b[1;33m\u001b[0m\u001b[1;33m\u001b[0m\u001b[0m\n\u001b[1;32m----> 2\u001b[1;33m \u001b[0munchangeable_tensor\u001b[0m\u001b[1;33m[\u001b[0m\u001b[1;36m0\u001b[0m\u001b[1;33m]\u001b[0m\u001b[1;33m.\u001b[0m\u001b[0massign\u001b[0m\u001b[1;33m(\u001b[0m\u001b[1;36m7\u001b[0m\u001b[1;33m)\u001b[0m\u001b[1;33m\u001b[0m\u001b[1;33m\u001b[0m\u001b[0m\n\u001b[0m\u001b[0;32m      3\u001b[0m \u001b[0munchangeable_tensor\u001b[0m \u001b[1;31m# observe that we can't change the element\u001b[0m\u001b[1;33m\u001b[0m\u001b[1;33m\u001b[0m\u001b[0m\n",
      "\u001b[1;31mAttributeError\u001b[0m: 'tensorflow.python.framework.ops.EagerTensor' object has no attribute 'assign'"
     ]
    }
   ],
   "source": [
    "# let's try to change one of the elements in our unchangeable tensor\n",
    "unchangeable_tensor[0].assign(7)\n",
    "unchangeable_tensor # observe that we can't change the element"
   ]
  },
  {
   "cell_type": "markdown",
   "id": "addressed-clothing",
   "metadata": {},
   "source": [
    "**Difference between tf.Variable and tf.Constant**  \n",
    "- tf.Variable allows elements of the tensor to be changed  \n",
    "- tf.constant does not allow elements of the tensor to be changed  \n",
    "\n",
    "In practice, need to decide when to use tf.Variable and tf.constant to create tensor"
   ]
  },
  {
   "cell_type": "markdown",
   "id": "fresh-folks",
   "metadata": {},
   "source": [
    "**Creating random tensors**\n",
    "\n",
    "Random tensors are tensors of some arbitrary size which contain random numbers"
   ]
  },
  {
   "cell_type": "code",
   "execution_count": 15,
   "id": "indoor-animal",
   "metadata": {},
   "outputs": [
    {
     "data": {
      "text/plain": [
       "(<tf.Tensor: shape=(3, 2), dtype=float32, numpy=\n",
       " array([[-0.7565803 , -0.06854702],\n",
       "        [ 0.07595026, -1.2573844 ],\n",
       "        [-0.23193765, -1.8107855 ]], dtype=float32)>,\n",
       " <tf.Tensor: shape=(3, 2), dtype=float32, numpy=\n",
       " array([[-0.7565803 , -0.06854702],\n",
       "        [ 0.07595026, -1.2573844 ],\n",
       "        [-0.23193765, -1.8107855 ]], dtype=float32)>,\n",
       " <tf.Tensor: shape=(3, 2), dtype=bool, numpy=\n",
       " array([[ True,  True],\n",
       "        [ True,  True],\n",
       "        [ True,  True]])>)"
      ]
     },
     "execution_count": 15,
     "metadata": {},
     "output_type": "execute_result"
    }
   ],
   "source": [
    "# create 2 random (but the same) tensors\n",
    "random_1 = tf.random.Generator.from_seed(42) # set seed for reproducibility\n",
    "random_1 = random_1.normal(shape=(3,2))\n",
    "random_2 = tf.random.Generator.from_seed(42)\n",
    "random_2 = random_2.normal(shape=(3,2))\n",
    "\n",
    "# are they equal?\n",
    "random_1, random_2, random_1 == random_2"
   ]
  },
  {
   "cell_type": "markdown",
   "id": "involved-packing",
   "metadata": {},
   "source": [
    "**Shuffle Order of Elements in a Tensor**"
   ]
  },
  {
   "cell_type": "code",
   "execution_count": 16,
   "id": "fundamental-seating",
   "metadata": {},
   "outputs": [
    {
     "name": "stdout",
     "output_type": "stream",
     "text": [
      "2\n",
      "tf.Tensor(\n",
      "[[10  7]\n",
      " [ 3  4]\n",
      " [ 2  5]], shape=(3, 2), dtype=int32)\n"
     ]
    }
   ],
   "source": [
    "# create a tensor first\n",
    "not_shuffled = tf.constant([[10,7],\n",
    "                            [3,4],\n",
    "                            [2,5]])\n",
    "print(not_shuffled.ndim)\n",
    "print(not_shuffled)"
   ]
  },
  {
   "cell_type": "code",
   "execution_count": 17,
   "id": "occupational-congress",
   "metadata": {},
   "outputs": [
    {
     "data": {
      "text/plain": [
       "<tf.Tensor: shape=(3, 2), dtype=int32, numpy=\n",
       "array([[10,  7],\n",
       "       [ 3,  4],\n",
       "       [ 2,  5]])>"
      ]
     },
     "execution_count": 17,
     "metadata": {},
     "output_type": "execute_result"
    }
   ],
   "source": [
    "# shuffle a tensor (valuable for when you want to shuffle your data so the inherent order doesn't affect learning)\n",
    "tf.random.set_seed(42)\n",
    "tf.random.shuffle(not_shuffled, seed=42) # Randomly shuffles a tensor along its first dimension."
   ]
  },
  {
   "cell_type": "markdown",
   "id": "growing-orchestra",
   "metadata": {},
   "source": [
    "**From TensorFlow Documentation**  \n",
    "\n",
    "Operations that rely on a random seed actually derive it from two seeds: the global and operation-level seeds. This sets the global seed.\n",
    "\n",
    "Its interactions with operation-level seeds is as follows:\n",
    "\n",
    "1. If neither the global seed nor the operation seed is set: A randomly picked seed is used for this op.\n",
    "2. If the global seed is set, but the operation seed is not: The system deterministically picks an operation seed in conjunction with the global seed so that it gets a unique random sequence. Within the same version of tensorflow and user code, this sequence is deterministic. However across different versions, this sequence might change. If the code depends on particular seeds to work, specify both global and operation-level seeds explicitly.\n",
    "3. If the operation seed is set, but the global seed is not set: A default global seed and the specified operation seed are used to determine the random sequence.\n",
    "4. If both the global and the operation seed are set: Both seeds are used in conjunction to determine the random sequence."
   ]
  },
  {
   "cell_type": "code",
   "execution_count": 18,
   "id": "protected-feature",
   "metadata": {},
   "outputs": [
    {
     "data": {
      "text/plain": [
       "<tf.Tensor: shape=(3, 2), dtype=int32, numpy=\n",
       "array([[ 3,  4],\n",
       "       [ 2,  5],\n",
       "       [10,  7]])>"
      ]
     },
     "execution_count": 18,
     "metadata": {},
     "output_type": "execute_result"
    }
   ],
   "source": [
    "# scenario 1 - neither global seed nor operation seed is set\n",
    "not_shuffled = tf.constant([[10,7],\n",
    "                            [3,4],\n",
    "                            [2,5]])\n",
    "tf.random.shuffle(not_shuffled) # result: order always changes, not reproducible"
   ]
  },
  {
   "cell_type": "code",
   "execution_count": 19,
   "id": "boring-california",
   "metadata": {},
   "outputs": [
    {
     "data": {
      "text/plain": [
       "<tf.Tensor: shape=(3, 2), dtype=int32, numpy=\n",
       "array([[ 3,  4],\n",
       "       [ 2,  5],\n",
       "       [10,  7]])>"
      ]
     },
     "execution_count": 19,
     "metadata": {},
     "output_type": "execute_result"
    }
   ],
   "source": [
    "# scenario 2 - global seed is set\n",
    "tf.random.set_seed(42)\n",
    "not_shuffled = tf.constant([[10,7],\n",
    "                            [3,4],\n",
    "                            [2,5]])\n",
    "tf.random.shuffle(not_shuffled) # result: order doesn't change, reproducible"
   ]
  },
  {
   "cell_type": "code",
   "execution_count": 20,
   "id": "modular-calculation",
   "metadata": {},
   "outputs": [
    {
     "data": {
      "text/plain": [
       "<tf.Tensor: shape=(3, 2), dtype=int32, numpy=\n",
       "array([[10,  7],\n",
       "       [ 3,  4],\n",
       "       [ 2,  5]])>"
      ]
     },
     "execution_count": 20,
     "metadata": {},
     "output_type": "execute_result"
    }
   ],
   "source": [
    "# scenario 3 - global seed is not set but operation seed is set\n",
    "not_shuffled = tf.constant([[10,7],\n",
    "                            [3,4],\n",
    "                            [2,5]])\n",
    "tf.random.shuffle(not_shuffled, seed=42) # result: order always changes, not reproducible"
   ]
  },
  {
   "cell_type": "code",
   "execution_count": 21,
   "id": "nervous-postcard",
   "metadata": {},
   "outputs": [
    {
     "data": {
      "text/plain": [
       "<tf.Tensor: shape=(3, 2), dtype=int32, numpy=\n",
       "array([[ 3,  4],\n",
       "       [10,  7],\n",
       "       [ 2,  5]])>"
      ]
     },
     "execution_count": 21,
     "metadata": {},
     "output_type": "execute_result"
    }
   ],
   "source": [
    "# scenario 4 - global seed and operation seed are set\n",
    "tf.random.set_seed(7)\n",
    "not_shuffled = tf.constant([[10,7],\n",
    "                            [3,4],\n",
    "                            [2,5]])\n",
    "tf.random.shuffle(not_shuffled, seed=7) # result: order doesn't change, reproducible"
   ]
  },
  {
   "cell_type": "markdown",
   "id": "effective-baptist",
   "metadata": {},
   "source": [
    "**Other ways to make tensors**"
   ]
  },
  {
   "cell_type": "code",
   "execution_count": 22,
   "id": "dirty-reset",
   "metadata": {},
   "outputs": [
    {
     "data": {
      "text/plain": [
       "<tf.Tensor: shape=(10, 7), dtype=float32, numpy=\n",
       "array([[1., 1., 1., 1., 1., 1., 1.],\n",
       "       [1., 1., 1., 1., 1., 1., 1.],\n",
       "       [1., 1., 1., 1., 1., 1., 1.],\n",
       "       [1., 1., 1., 1., 1., 1., 1.],\n",
       "       [1., 1., 1., 1., 1., 1., 1.],\n",
       "       [1., 1., 1., 1., 1., 1., 1.],\n",
       "       [1., 1., 1., 1., 1., 1., 1.],\n",
       "       [1., 1., 1., 1., 1., 1., 1.],\n",
       "       [1., 1., 1., 1., 1., 1., 1.],\n",
       "       [1., 1., 1., 1., 1., 1., 1.]], dtype=float32)>"
      ]
     },
     "execution_count": 22,
     "metadata": {},
     "output_type": "execute_result"
    }
   ],
   "source": [
    "# create a tensor of all ones\n",
    "tf.ones([10,7])"
   ]
  },
  {
   "cell_type": "code",
   "execution_count": 23,
   "id": "reduced-traffic",
   "metadata": {},
   "outputs": [
    {
     "data": {
      "text/plain": [
       "<tf.Tensor: shape=(10, 7), dtype=float32, numpy=\n",
       "array([[0., 0., 0., 0., 0., 0., 0.],\n",
       "       [0., 0., 0., 0., 0., 0., 0.],\n",
       "       [0., 0., 0., 0., 0., 0., 0.],\n",
       "       [0., 0., 0., 0., 0., 0., 0.],\n",
       "       [0., 0., 0., 0., 0., 0., 0.],\n",
       "       [0., 0., 0., 0., 0., 0., 0.],\n",
       "       [0., 0., 0., 0., 0., 0., 0.],\n",
       "       [0., 0., 0., 0., 0., 0., 0.],\n",
       "       [0., 0., 0., 0., 0., 0., 0.],\n",
       "       [0., 0., 0., 0., 0., 0., 0.]], dtype=float32)>"
      ]
     },
     "execution_count": 23,
     "metadata": {},
     "output_type": "execute_result"
    }
   ],
   "source": [
    "# create a tensor of all zeros\n",
    "tf.zeros(shape=(10,7))"
   ]
  },
  {
   "cell_type": "markdown",
   "id": "historic-bibliography",
   "metadata": {},
   "source": [
    "**create numpy array into tensorflow tensors**\n",
    "\n",
    "- main difference of numpy arrays and tensorflow tensors is that\n",
    "- tensors can be run on a GPU (much faster for numerical computing)"
   ]
  },
  {
   "cell_type": "code",
   "execution_count": 24,
   "id": "under-pencil",
   "metadata": {},
   "outputs": [
    {
     "data": {
      "text/plain": [
       "array([ 1,  2,  3,  4,  5,  6,  7,  8,  9, 10, 11, 12, 13, 14, 15, 16, 17,\n",
       "       18, 19, 20, 21, 22, 23, 24])"
      ]
     },
     "execution_count": 24,
     "metadata": {},
     "output_type": "execute_result"
    }
   ],
   "source": [
    "import numpy as np\n",
    "numpy_A = np.arange(1,25, dtype=np.int32)  # create a Numpy array between 1 to 25\n",
    "numpy_A\n",
    " \n",
    "# X = tf.constant(some_matrix) # capital for matrix or tensor\n",
    "# y = tf.constant(vector) # lower case for vector"
   ]
  },
  {
   "cell_type": "code",
   "execution_count": 25,
   "id": "alternate-negotiation",
   "metadata": {},
   "outputs": [
    {
     "data": {
      "text/plain": [
       "(24,)"
      ]
     },
     "execution_count": 25,
     "metadata": {},
     "output_type": "execute_result"
    }
   ],
   "source": [
    "numpy_A.shape"
   ]
  },
  {
   "cell_type": "code",
   "execution_count": 26,
   "id": "compatible-arthur",
   "metadata": {},
   "outputs": [
    {
     "data": {
      "text/plain": [
       "(<tf.Tensor: shape=(2, 3, 4), dtype=int32, numpy=\n",
       " array([[[ 1,  2,  3,  4],\n",
       "         [ 5,  6,  7,  8],\n",
       "         [ 9, 10, 11, 12]],\n",
       " \n",
       "        [[13, 14, 15, 16],\n",
       "         [17, 18, 19, 20],\n",
       "         [21, 22, 23, 24]]])>,\n",
       " <tf.Tensor: shape=(24,), dtype=int32, numpy=\n",
       " array([ 1,  2,  3,  4,  5,  6,  7,  8,  9, 10, 11, 12, 13, 14, 15, 16, 17,\n",
       "        18, 19, 20, 21, 22, 23, 24])>)"
      ]
     },
     "execution_count": 26,
     "metadata": {},
     "output_type": "execute_result"
    }
   ],
   "source": [
    "# pass numpy array to tf.constant and reshape\n",
    "A = tf.constant(numpy_A, shape=(2,3,4)) # shape: 2*3*4 = 24 (total number of elements in the array)\n",
    "B = tf.constant(numpy_A)\n",
    "A, B"
   ]
  },
  {
   "cell_type": "markdown",
   "id": "obvious-investigation",
   "metadata": {},
   "source": [
    "### 2. Getting Information from Tensor \n",
    "\n",
    "- Shape (tensor.shape) : the size / the length / the number of elements of the tensor along each of its axes.  \n",
    "- Rank (tensor.ndim) : the number of tensor dimensions. As scalar has rank 0, a vector has rank 1, a matrix has rank 2 and a tensor has rank n  \n",
    "- Axis or dimension (tensor[0], tensor[:,1]) : a particular dimension of a tensor  \n",
    "- Size (tf.size) : the total number of items in the tensor"
   ]
  },
  {
   "cell_type": "code",
   "execution_count": 27,
   "id": "native-nothing",
   "metadata": {},
   "outputs": [
    {
     "data": {
      "text/plain": [
       "<tf.Tensor: shape=(2, 3, 4, 5), dtype=float32, numpy=\n",
       "array([[[[0., 0., 0., 0., 0.],\n",
       "         [0., 0., 0., 0., 0.],\n",
       "         [0., 0., 0., 0., 0.],\n",
       "         [0., 0., 0., 0., 0.]],\n",
       "\n",
       "        [[0., 0., 0., 0., 0.],\n",
       "         [0., 0., 0., 0., 0.],\n",
       "         [0., 0., 0., 0., 0.],\n",
       "         [0., 0., 0., 0., 0.]],\n",
       "\n",
       "        [[0., 0., 0., 0., 0.],\n",
       "         [0., 0., 0., 0., 0.],\n",
       "         [0., 0., 0., 0., 0.],\n",
       "         [0., 0., 0., 0., 0.]]],\n",
       "\n",
       "\n",
       "       [[[0., 0., 0., 0., 0.],\n",
       "         [0., 0., 0., 0., 0.],\n",
       "         [0., 0., 0., 0., 0.],\n",
       "         [0., 0., 0., 0., 0.]],\n",
       "\n",
       "        [[0., 0., 0., 0., 0.],\n",
       "         [0., 0., 0., 0., 0.],\n",
       "         [0., 0., 0., 0., 0.],\n",
       "         [0., 0., 0., 0., 0.]],\n",
       "\n",
       "        [[0., 0., 0., 0., 0.],\n",
       "         [0., 0., 0., 0., 0.],\n",
       "         [0., 0., 0., 0., 0.],\n",
       "         [0., 0., 0., 0., 0.]]]], dtype=float32)>"
      ]
     },
     "execution_count": 27,
     "metadata": {},
     "output_type": "execute_result"
    }
   ],
   "source": [
    "# create a rank 4 tensor (4 dimensions)\n",
    "rank_4_tensor = tf.zeros(shape=(2,3,4,5))\n",
    "rank_4_tensor"
   ]
  },
  {
   "cell_type": "code",
   "execution_count": 28,
   "id": "surgical-lesbian",
   "metadata": {},
   "outputs": [
    {
     "data": {
      "text/plain": [
       "<tf.Tensor: shape=(3, 4, 5), dtype=float32, numpy=\n",
       "array([[[0., 0., 0., 0., 0.],\n",
       "        [0., 0., 0., 0., 0.],\n",
       "        [0., 0., 0., 0., 0.],\n",
       "        [0., 0., 0., 0., 0.]],\n",
       "\n",
       "       [[0., 0., 0., 0., 0.],\n",
       "        [0., 0., 0., 0., 0.],\n",
       "        [0., 0., 0., 0., 0.],\n",
       "        [0., 0., 0., 0., 0.]],\n",
       "\n",
       "       [[0., 0., 0., 0., 0.],\n",
       "        [0., 0., 0., 0., 0.],\n",
       "        [0., 0., 0., 0., 0.],\n",
       "        [0., 0., 0., 0., 0.]]], dtype=float32)>"
      ]
     },
     "execution_count": 28,
     "metadata": {},
     "output_type": "execute_result"
    }
   ],
   "source": [
    "rank_4_tensor[0]"
   ]
  },
  {
   "cell_type": "code",
   "execution_count": 29,
   "id": "developing-taylor",
   "metadata": {},
   "outputs": [
    {
     "name": "stdout",
     "output_type": "stream",
     "text": [
      "Datatype of every element: <dtype: 'float32'>\n",
      "Number of dimensions (rank): 4\n",
      "Shape of tensor: (2, 3, 4, 5)\n",
      "Elements along the 0 axis: 2\n",
      "Elements along the last axis: 5\n",
      "Total number of elements in our tensor: tf.Tensor(120, shape=(), dtype=int32)\n",
      "Total number of elements in our tensor: 120\n"
     ]
    }
   ],
   "source": [
    "# get various attributes of our tensor\n",
    "print('Datatype of every element:', rank_4_tensor.dtype)\n",
    "print('Number of dimensions (rank):', rank_4_tensor.ndim)\n",
    "print('Shape of tensor:', rank_4_tensor.shape)\n",
    "print('Elements along the 0 axis:', rank_4_tensor.shape[0])\n",
    "print('Elements along the last axis:', rank_4_tensor.shape[-1])\n",
    "print('Total number of elements in our tensor:', tf.size(rank_4_tensor))\n",
    "print('Total number of elements in our tensor:', tf.size(rank_4_tensor).numpy()) # adding .numpy() will help to convert it into number"
   ]
  },
  {
   "cell_type": "markdown",
   "id": "large-lithuania",
   "metadata": {},
   "source": [
    "### 3. Indexing Tensors \n",
    "\n",
    "Tensors can be indexed just like Python lists."
   ]
  },
  {
   "cell_type": "code",
   "execution_count": 30,
   "id": "adaptive-psychiatry",
   "metadata": {},
   "outputs": [
    {
     "data": {
      "text/plain": [
       "[1, 2]"
      ]
     },
     "execution_count": 30,
     "metadata": {},
     "output_type": "execute_result"
    }
   ],
   "source": [
    "some_list = [1,2,3,4]\n",
    "some_list[:2]"
   ]
  },
  {
   "cell_type": "code",
   "execution_count": 31,
   "id": "primary-perspective",
   "metadata": {},
   "outputs": [
    {
     "data": {
      "text/plain": [
       "<tf.Tensor: shape=(2, 2, 2, 2), dtype=float32, numpy=\n",
       "array([[[[0., 0.],\n",
       "         [0., 0.]],\n",
       "\n",
       "        [[0., 0.],\n",
       "         [0., 0.]]],\n",
       "\n",
       "\n",
       "       [[[0., 0.],\n",
       "         [0., 0.]],\n",
       "\n",
       "        [[0., 0.],\n",
       "         [0., 0.]]]], dtype=float32)>"
      ]
     },
     "execution_count": 31,
     "metadata": {},
     "output_type": "execute_result"
    }
   ],
   "source": [
    "# get the first 2 elements of each dimension\n",
    "rank_4_tensor[:2,:2,:2, :2]"
   ]
  },
  {
   "cell_type": "code",
   "execution_count": 32,
   "id": "automated-victoria",
   "metadata": {},
   "outputs": [
    {
     "data": {
      "text/plain": [
       "<tf.Tensor: shape=(1, 1, 1, 5), dtype=float32, numpy=array([[[[0., 0., 0., 0., 0.]]]], dtype=float32)>"
      ]
     },
     "execution_count": 32,
     "metadata": {},
     "output_type": "execute_result"
    }
   ],
   "source": [
    "# get first element from each dimension except for the final one\n",
    "rank_4_tensor[:1,:1,:1,:]"
   ]
  },
  {
   "cell_type": "code",
   "execution_count": 33,
   "id": "impressive-conversation",
   "metadata": {},
   "outputs": [
    {
     "data": {
      "text/plain": [
       "<tf.Tensor: shape=(1, 1, 4, 1), dtype=float32, numpy=\n",
       "array([[[[0.],\n",
       "         [0.],\n",
       "         [0.],\n",
       "         [0.]]]], dtype=float32)>"
      ]
     },
     "execution_count": 33,
     "metadata": {},
     "output_type": "execute_result"
    }
   ],
   "source": [
    "# get first element from each dimension except for the second final one\n",
    "rank_4_tensor[:1,:1,:,:1]"
   ]
  },
  {
   "cell_type": "markdown",
   "id": "affected-gateway",
   "metadata": {},
   "source": [
    "## 4. Expanding Tensor"
   ]
  },
  {
   "cell_type": "code",
   "execution_count": 34,
   "id": "fundamental-scholar",
   "metadata": {},
   "outputs": [
    {
     "data": {
      "text/plain": [
       "(TensorShape([2, 2]), 2)"
      ]
     },
     "execution_count": 34,
     "metadata": {},
     "output_type": "execute_result"
    }
   ],
   "source": [
    "# create a rank 2 tensor (i.e. 2 dimension)\n",
    "rank_2_tensor = tf.constant([[10,7],\n",
    "                            [3,4]])\n",
    "rank_2_tensor.shape, rank_2_tensor.ndim"
   ]
  },
  {
   "cell_type": "code",
   "execution_count": 35,
   "id": "racial-maintenance",
   "metadata": {},
   "outputs": [
    {
     "data": {
      "text/plain": [
       "<tf.Tensor: shape=(2, 2), dtype=int32, numpy=\n",
       "array([[10,  7],\n",
       "       [ 3,  4]])>"
      ]
     },
     "execution_count": 35,
     "metadata": {},
     "output_type": "execute_result"
    }
   ],
   "source": [
    "rank_2_tensor"
   ]
  },
  {
   "cell_type": "code",
   "execution_count": 36,
   "id": "clean-dispatch",
   "metadata": {},
   "outputs": [
    {
     "data": {
      "text/plain": [
       "<tf.Tensor: shape=(2,), dtype=int32, numpy=array([7, 4])>"
      ]
     },
     "execution_count": 36,
     "metadata": {},
     "output_type": "execute_result"
    }
   ],
   "source": [
    "# get the last item of each of row of our rank 2 tensor\n",
    "rank_2_tensor[:, -1]"
   ]
  },
  {
   "cell_type": "code",
   "execution_count": 37,
   "id": "mighty-character",
   "metadata": {},
   "outputs": [
    {
     "data": {
      "text/plain": [
       "<tf.Tensor: shape=(2, 2, 1), dtype=int32, numpy=\n",
       "array([[[10],\n",
       "        [ 7]],\n",
       "\n",
       "       [[ 3],\n",
       "        [ 4]]])>"
      ]
     },
     "execution_count": 37,
     "metadata": {},
     "output_type": "execute_result"
    }
   ],
   "source": [
    "# Add in extra dimension to our rank 2 tensor but keeping the same info\n",
    "rank_3_tensor = rank_2_tensor[..., tf.newaxis] # ..., implies every access of previous exist. \n",
    "rank_3_tensor"
   ]
  },
  {
   "cell_type": "code",
   "execution_count": 38,
   "id": "featured-queensland",
   "metadata": {},
   "outputs": [
    {
     "data": {
      "text/plain": [
       "<tf.Tensor: shape=(2, 2, 1), dtype=int32, numpy=\n",
       "array([[[10],\n",
       "        [ 7]],\n",
       "\n",
       "       [[ 3],\n",
       "        [ 4]]])>"
      ]
     },
     "execution_count": 38,
     "metadata": {},
     "output_type": "execute_result"
    }
   ],
   "source": [
    "# Alternative to tf.newaxis\n",
    "tf.expand_dims(rank_2_tensor, axis=-1) # '-1' means expand the final axis"
   ]
  },
  {
   "cell_type": "code",
   "execution_count": 39,
   "id": "prerequisite-convenience",
   "metadata": {},
   "outputs": [
    {
     "data": {
      "text/plain": [
       "<tf.Tensor: shape=(1, 2, 2), dtype=int32, numpy=\n",
       "array([[[10,  7],\n",
       "        [ 3,  4]]])>"
      ]
     },
     "execution_count": 39,
     "metadata": {},
     "output_type": "execute_result"
    }
   ],
   "source": [
    "# Alternative to tf.newaxis\n",
    "tf.expand_dims(rank_2_tensor, axis=0) # expand 0 axis"
   ]
  },
  {
   "cell_type": "code",
   "execution_count": 40,
   "id": "material-musician",
   "metadata": {},
   "outputs": [
    {
     "data": {
      "text/plain": [
       "<tf.Tensor: shape=(2, 1, 2), dtype=int32, numpy=\n",
       "array([[[10,  7]],\n",
       "\n",
       "       [[ 3,  4]]])>"
      ]
     },
     "execution_count": 40,
     "metadata": {},
     "output_type": "execute_result"
    }
   ],
   "source": [
    "# Alternative to tf.newaxis\n",
    "tf.expand_dims(rank_2_tensor, axis=1) # expand on axis 1"
   ]
  },
  {
   "cell_type": "code",
   "execution_count": 41,
   "id": "pregnant-track",
   "metadata": {},
   "outputs": [
    {
     "data": {
      "text/plain": [
       "<tf.Tensor: shape=(2, 2), dtype=int32, numpy=\n",
       "array([[10,  7],\n",
       "       [ 3,  4]])>"
      ]
     },
     "execution_count": 41,
     "metadata": {},
     "output_type": "execute_result"
    }
   ],
   "source": [
    "rank_2_tensor"
   ]
  },
  {
   "cell_type": "markdown",
   "id": "documented-craft",
   "metadata": {},
   "source": [
    "## 5. Manipulating tensor (tensor operation)"
   ]
  },
  {
   "cell_type": "markdown",
   "id": "yellow-relevance",
   "metadata": {},
   "source": [
    "**Basic Operations (element-wise operation)**\n",
    "\n",
    "`+`, `-`, `*`, `/`"
   ]
  },
  {
   "cell_type": "code",
   "execution_count": 42,
   "id": "intermediate-trading",
   "metadata": {},
   "outputs": [
    {
     "data": {
      "text/plain": [
       "<tf.Tensor: shape=(2, 2), dtype=int32, numpy=\n",
       "array([[20, 17],\n",
       "       [13, 14]])>"
      ]
     },
     "execution_count": 42,
     "metadata": {},
     "output_type": "execute_result"
    }
   ],
   "source": [
    "# You can add values to a tensor using the addition operation\n",
    "tensor = tf.constant([[10,7],\n",
    "                     [3,4]])\n",
    "\n",
    "tensor + 10"
   ]
  },
  {
   "cell_type": "code",
   "execution_count": 43,
   "id": "honest-nursery",
   "metadata": {},
   "outputs": [
    {
     "data": {
      "text/plain": [
       "<tf.Tensor: shape=(2, 2), dtype=int32, numpy=\n",
       "array([[10,  7],\n",
       "       [ 3,  4]])>"
      ]
     },
     "execution_count": 43,
     "metadata": {},
     "output_type": "execute_result"
    }
   ],
   "source": [
    "# original tensor is unchanged\n",
    "tensor"
   ]
  },
  {
   "cell_type": "code",
   "execution_count": 44,
   "id": "dietary-python",
   "metadata": {},
   "outputs": [],
   "source": [
    "# if we want to change the tensor \n",
    "# tensor  = tensor + 10\n",
    "# tensor"
   ]
  },
  {
   "cell_type": "code",
   "execution_count": 45,
   "id": "frequent-smooth",
   "metadata": {},
   "outputs": [
    {
     "data": {
      "text/plain": [
       "<tf.Tensor: shape=(2, 2), dtype=int32, numpy=\n",
       "array([[100,  70],\n",
       "       [ 30,  40]])>"
      ]
     },
     "execution_count": 45,
     "metadata": {},
     "output_type": "execute_result"
    }
   ],
   "source": [
    "# multiplication also works\n",
    "tensor * 10"
   ]
  },
  {
   "cell_type": "code",
   "execution_count": 46,
   "id": "processed-certification",
   "metadata": {},
   "outputs": [
    {
     "data": {
      "text/plain": [
       "<tf.Tensor: shape=(2, 2), dtype=int32, numpy=\n",
       "array([[ 0, -3],\n",
       "       [-7, -6]])>"
      ]
     },
     "execution_count": 46,
     "metadata": {},
     "output_type": "execute_result"
    }
   ],
   "source": [
    "# subtraction also works\n",
    "tensor - 10"
   ]
  },
  {
   "cell_type": "code",
   "execution_count": 47,
   "id": "minor-perry",
   "metadata": {},
   "outputs": [
    {
     "data": {
      "text/plain": [
       "<tf.Tensor: shape=(2, 2), dtype=int32, numpy=\n",
       "array([[100,  70],\n",
       "       [ 30,  40]])>"
      ]
     },
     "execution_count": 47,
     "metadata": {},
     "output_type": "execute_result"
    }
   ],
   "source": [
    "# we can use tensorflow built-in function \n",
    "tf.multiply(tensor, 10) "
   ]
  },
  {
   "cell_type": "code",
   "execution_count": 48,
   "id": "continuous-mumbai",
   "metadata": {},
   "outputs": [
    {
     "data": {
      "text/plain": [
       "<tf.Tensor: shape=(2, 2), dtype=float64, numpy=\n",
       "array([[1. , 0.7],\n",
       "       [0.3, 0.4]])>"
      ]
     },
     "execution_count": 48,
     "metadata": {},
     "output_type": "execute_result"
    }
   ],
   "source": [
    "# divide also works\n",
    "tf.divide(tensor, 10)"
   ]
  },
  {
   "cell_type": "markdown",
   "id": "lined-recording",
   "metadata": {},
   "source": [
    "**Matrix Multiplication** \n",
    "\n",
    "In machine learning, matrix multiplication is one of the most common tensor operations.  \n",
    "\n",
    "There are two rules our tensors (or matrices) need to fulfil if we're going to matrix multiply them:  \n",
    "1. the linear dimension must match   \n",
    "2. the resulting matrix has the shape of the inner dimension"
   ]
  },
  {
   "cell_type": "code",
   "execution_count": 49,
   "id": "failing-subscription",
   "metadata": {},
   "outputs": [
    {
     "name": "stdout",
     "output_type": "stream",
     "text": [
      "tf.Tensor(\n",
      "[[10  7]\n",
      " [ 3  4]], shape=(2, 2), dtype=int32)\n"
     ]
    },
    {
     "data": {
      "text/plain": [
       "<tf.Tensor: shape=(2, 2), dtype=int32, numpy=\n",
       "array([[121,  98],\n",
       "       [ 42,  37]])>"
      ]
     },
     "execution_count": 49,
     "metadata": {},
     "output_type": "execute_result"
    }
   ],
   "source": [
    "# Matrix Multiplication in Tensorflow - tensor shapes must align for this to work\n",
    "print(tensor)\n",
    "tf.matmul(tensor, tensor)"
   ]
  },
  {
   "cell_type": "code",
   "execution_count": 50,
   "id": "identified-handbook",
   "metadata": {},
   "outputs": [
    {
     "data": {
      "text/plain": [
       "<tf.Tensor: shape=(2, 2), dtype=int32, numpy=\n",
       "array([[121,  98],\n",
       "       [ 42,  37]])>"
      ]
     },
     "execution_count": 50,
     "metadata": {},
     "output_type": "execute_result"
    }
   ],
   "source": [
    "# matrix multiplication with python operator \"@\"\n",
    "tensor @ tensor"
   ]
  },
  {
   "cell_type": "code",
   "execution_count": 51,
   "id": "following-practice",
   "metadata": {},
   "outputs": [
    {
     "data": {
      "text/plain": [
       "<tf.Tensor: shape=(3, 2), dtype=int32, numpy=\n",
       "array([[20, 59],\n",
       "       [34, 57],\n",
       "       [30, 60]])>"
      ]
     },
     "execution_count": 51,
     "metadata": {},
     "output_type": "execute_result"
    }
   ],
   "source": [
    "# practice creating two tensors and apply matmul\n",
    "a = tf.constant([[1,2,5],\n",
    "                [7,2,1],\n",
    "                [3,3,3]])\n",
    "b = tf.constant([[3,5],\n",
    "                [6,7],\n",
    "                [1,8]])\n",
    "tf.matmul(a,b)"
   ]
  },
  {
   "cell_type": "code",
   "execution_count": 52,
   "id": "canadian-permission",
   "metadata": {},
   "outputs": [
    {
     "name": "stdout",
     "output_type": "stream",
     "text": [
      "(3, 2)\n",
      "(3, 2)\n"
     ]
    },
    {
     "ename": "InvalidArgumentError",
     "evalue": "Matrix size-incompatible: In[0]: [3,2], In[1]: [3,2] [Op:MatMul]",
     "output_type": "error",
     "traceback": [
      "\u001b[1;31m---------------------------------------------------------------------------\u001b[0m",
      "\u001b[1;31mInvalidArgumentError\u001b[0m                      Traceback (most recent call last)",
      "\u001b[1;32m<ipython-input-52-fa844466882c>\u001b[0m in \u001b[0;36m<module>\u001b[1;34m\u001b[0m\n\u001b[0;32m      8\u001b[0m \u001b[0mprint\u001b[0m\u001b[1;33m(\u001b[0m\u001b[0mX\u001b[0m\u001b[1;33m.\u001b[0m\u001b[0mshape\u001b[0m\u001b[1;33m)\u001b[0m\u001b[1;33m\u001b[0m\u001b[1;33m\u001b[0m\u001b[0m\n\u001b[0;32m      9\u001b[0m \u001b[0mprint\u001b[0m\u001b[1;33m(\u001b[0m\u001b[0mY\u001b[0m\u001b[1;33m.\u001b[0m\u001b[0mshape\u001b[0m\u001b[1;33m)\u001b[0m\u001b[1;33m\u001b[0m\u001b[1;33m\u001b[0m\u001b[0m\n\u001b[1;32m---> 10\u001b[1;33m \u001b[0mtf\u001b[0m\u001b[1;33m.\u001b[0m\u001b[0mmatmul\u001b[0m\u001b[1;33m(\u001b[0m\u001b[0mX\u001b[0m\u001b[1;33m,\u001b[0m \u001b[0mY\u001b[0m\u001b[1;33m)\u001b[0m \u001b[1;31m# this will return an error as tensor shapes are not aligned\u001b[0m\u001b[1;33m\u001b[0m\u001b[1;33m\u001b[0m\u001b[0m\n\u001b[0m",
      "\u001b[1;32m~\\anaconda3\\envs\\cs5242\\lib\\site-packages\\tensorflow\\python\\util\\dispatch.py\u001b[0m in \u001b[0;36mwrapper\u001b[1;34m(*args, **kwargs)\u001b[0m\n\u001b[0;32m    199\u001b[0m     \u001b[1;34m\"\"\"Call target, and fall back on dispatchers if there is a TypeError.\"\"\"\u001b[0m\u001b[1;33m\u001b[0m\u001b[1;33m\u001b[0m\u001b[0m\n\u001b[0;32m    200\u001b[0m     \u001b[1;32mtry\u001b[0m\u001b[1;33m:\u001b[0m\u001b[1;33m\u001b[0m\u001b[1;33m\u001b[0m\u001b[0m\n\u001b[1;32m--> 201\u001b[1;33m       \u001b[1;32mreturn\u001b[0m \u001b[0mtarget\u001b[0m\u001b[1;33m(\u001b[0m\u001b[1;33m*\u001b[0m\u001b[0margs\u001b[0m\u001b[1;33m,\u001b[0m \u001b[1;33m**\u001b[0m\u001b[0mkwargs\u001b[0m\u001b[1;33m)\u001b[0m\u001b[1;33m\u001b[0m\u001b[1;33m\u001b[0m\u001b[0m\n\u001b[0m\u001b[0;32m    202\u001b[0m     \u001b[1;32mexcept\u001b[0m \u001b[1;33m(\u001b[0m\u001b[0mTypeError\u001b[0m\u001b[1;33m,\u001b[0m \u001b[0mValueError\u001b[0m\u001b[1;33m)\u001b[0m\u001b[1;33m:\u001b[0m\u001b[1;33m\u001b[0m\u001b[1;33m\u001b[0m\u001b[0m\n\u001b[0;32m    203\u001b[0m       \u001b[1;31m# Note: convert_to_eager_tensor currently raises a ValueError, not a\u001b[0m\u001b[1;33m\u001b[0m\u001b[1;33m\u001b[0m\u001b[1;33m\u001b[0m\u001b[0m\n",
      "\u001b[1;32m~\\anaconda3\\envs\\cs5242\\lib\\site-packages\\tensorflow\\python\\ops\\math_ops.py\u001b[0m in \u001b[0;36mmatmul\u001b[1;34m(a, b, transpose_a, transpose_b, adjoint_a, adjoint_b, a_is_sparse, b_is_sparse, name)\u001b[0m\n\u001b[0;32m   3313\u001b[0m     \u001b[1;32melse\u001b[0m\u001b[1;33m:\u001b[0m\u001b[1;33m\u001b[0m\u001b[1;33m\u001b[0m\u001b[0m\n\u001b[0;32m   3314\u001b[0m       return gen_math_ops.mat_mul(\n\u001b[1;32m-> 3315\u001b[1;33m           a, b, transpose_a=transpose_a, transpose_b=transpose_b, name=name)\n\u001b[0m\u001b[0;32m   3316\u001b[0m \u001b[1;33m\u001b[0m\u001b[0m\n\u001b[0;32m   3317\u001b[0m \u001b[1;33m\u001b[0m\u001b[0m\n",
      "\u001b[1;32m~\\anaconda3\\envs\\cs5242\\lib\\site-packages\\tensorflow\\python\\ops\\gen_math_ops.py\u001b[0m in \u001b[0;36mmat_mul\u001b[1;34m(a, b, transpose_a, transpose_b, name)\u001b[0m\n\u001b[0;32m   5529\u001b[0m       \u001b[1;32mreturn\u001b[0m \u001b[0m_result\u001b[0m\u001b[1;33m\u001b[0m\u001b[1;33m\u001b[0m\u001b[0m\n\u001b[0;32m   5530\u001b[0m     \u001b[1;32mexcept\u001b[0m \u001b[0m_core\u001b[0m\u001b[1;33m.\u001b[0m\u001b[0m_NotOkStatusException\u001b[0m \u001b[1;32mas\u001b[0m \u001b[0me\u001b[0m\u001b[1;33m:\u001b[0m\u001b[1;33m\u001b[0m\u001b[1;33m\u001b[0m\u001b[0m\n\u001b[1;32m-> 5531\u001b[1;33m       \u001b[0m_ops\u001b[0m\u001b[1;33m.\u001b[0m\u001b[0mraise_from_not_ok_status\u001b[0m\u001b[1;33m(\u001b[0m\u001b[0me\u001b[0m\u001b[1;33m,\u001b[0m \u001b[0mname\u001b[0m\u001b[1;33m)\u001b[0m\u001b[1;33m\u001b[0m\u001b[1;33m\u001b[0m\u001b[0m\n\u001b[0m\u001b[0;32m   5532\u001b[0m     \u001b[1;32mexcept\u001b[0m \u001b[0m_core\u001b[0m\u001b[1;33m.\u001b[0m\u001b[0m_FallbackException\u001b[0m\u001b[1;33m:\u001b[0m\u001b[1;33m\u001b[0m\u001b[1;33m\u001b[0m\u001b[0m\n\u001b[0;32m   5533\u001b[0m       \u001b[1;32mpass\u001b[0m\u001b[1;33m\u001b[0m\u001b[1;33m\u001b[0m\u001b[0m\n",
      "\u001b[1;32m~\\anaconda3\\envs\\cs5242\\lib\\site-packages\\tensorflow\\python\\framework\\ops.py\u001b[0m in \u001b[0;36mraise_from_not_ok_status\u001b[1;34m(e, name)\u001b[0m\n\u001b[0;32m   6860\u001b[0m   \u001b[0mmessage\u001b[0m \u001b[1;33m=\u001b[0m \u001b[0me\u001b[0m\u001b[1;33m.\u001b[0m\u001b[0mmessage\u001b[0m \u001b[1;33m+\u001b[0m \u001b[1;33m(\u001b[0m\u001b[1;34m\" name: \"\u001b[0m \u001b[1;33m+\u001b[0m \u001b[0mname\u001b[0m \u001b[1;32mif\u001b[0m \u001b[0mname\u001b[0m \u001b[1;32mis\u001b[0m \u001b[1;32mnot\u001b[0m \u001b[1;32mNone\u001b[0m \u001b[1;32melse\u001b[0m \u001b[1;34m\"\"\u001b[0m\u001b[1;33m)\u001b[0m\u001b[1;33m\u001b[0m\u001b[1;33m\u001b[0m\u001b[0m\n\u001b[0;32m   6861\u001b[0m   \u001b[1;31m# pylint: disable=protected-access\u001b[0m\u001b[1;33m\u001b[0m\u001b[1;33m\u001b[0m\u001b[1;33m\u001b[0m\u001b[0m\n\u001b[1;32m-> 6862\u001b[1;33m   \u001b[0msix\u001b[0m\u001b[1;33m.\u001b[0m\u001b[0mraise_from\u001b[0m\u001b[1;33m(\u001b[0m\u001b[0mcore\u001b[0m\u001b[1;33m.\u001b[0m\u001b[0m_status_to_exception\u001b[0m\u001b[1;33m(\u001b[0m\u001b[0me\u001b[0m\u001b[1;33m.\u001b[0m\u001b[0mcode\u001b[0m\u001b[1;33m,\u001b[0m \u001b[0mmessage\u001b[0m\u001b[1;33m)\u001b[0m\u001b[1;33m,\u001b[0m \u001b[1;32mNone\u001b[0m\u001b[1;33m)\u001b[0m\u001b[1;33m\u001b[0m\u001b[1;33m\u001b[0m\u001b[0m\n\u001b[0m\u001b[0;32m   6863\u001b[0m   \u001b[1;31m# pylint: enable=protected-access\u001b[0m\u001b[1;33m\u001b[0m\u001b[1;33m\u001b[0m\u001b[1;33m\u001b[0m\u001b[0m\n\u001b[0;32m   6864\u001b[0m \u001b[1;33m\u001b[0m\u001b[0m\n",
      "\u001b[1;32m~\\anaconda3\\envs\\cs5242\\lib\\site-packages\\six.py\u001b[0m in \u001b[0;36mraise_from\u001b[1;34m(value, from_value)\u001b[0m\n",
      "\u001b[1;31mInvalidArgumentError\u001b[0m: Matrix size-incompatible: In[0]: [3,2], In[1]: [3,2] [Op:MatMul]"
     ]
    }
   ],
   "source": [
    "# example on matmul failing\n",
    "X = tf.constant([[1,2],\n",
    "                [3,4],\n",
    "                [5,6]])\n",
    "Y = tf.constant([[7,8],\n",
    "                [9,10],\n",
    "                [11,12]])\n",
    "print(X.shape)\n",
    "print(Y.shape)\n",
    "tf.matmul(X, Y) # this will return an error as tensor shapes are not aligned"
   ]
  },
  {
   "cell_type": "code",
   "execution_count": 53,
   "id": "promising-simple",
   "metadata": {},
   "outputs": [
    {
     "data": {
      "text/plain": [
       "<tf.Tensor: shape=(3, 3), dtype=int32, numpy=\n",
       "array([[ 23,  29,  35],\n",
       "       [ 53,  67,  81],\n",
       "       [ 83, 105, 127]])>"
      ]
     },
     "execution_count": 53,
     "metadata": {},
     "output_type": "execute_result"
    }
   ],
   "source": [
    "# try to align the shapes using transpose so that matmul can work\n",
    "tf.matmul(X, tf.transpose(Y)) "
   ]
  },
  {
   "cell_type": "code",
   "execution_count": 54,
   "id": "automatic-press",
   "metadata": {},
   "outputs": [
    {
     "data": {
      "text/plain": [
       "<tf.Tensor: shape=(3, 3), dtype=int32, numpy=\n",
       "array([[ 27,  30,  33],\n",
       "       [ 61,  68,  75],\n",
       "       [ 95, 106, 117]])>"
      ]
     },
     "execution_count": 54,
     "metadata": {},
     "output_type": "execute_result"
    }
   ],
   "source": [
    "# alternatively use reshape to change the shape of Y\n",
    "X @ tf.reshape(Y, shape=(2,3))"
   ]
  },
  {
   "cell_type": "markdown",
   "id": "circular-titanium",
   "metadata": {},
   "source": [
    "**The dot product**\n",
    "\n",
    "Matrix multiplication is also referred to as the dot product.  \n",
    "\n",
    "You can perform matrix multiplication using:  \n",
    "    - `tf.matmul()`   \n",
    "    - `tf.tensordot()`"
   ]
  },
  {
   "cell_type": "code",
   "execution_count": 55,
   "id": "explicit-adapter",
   "metadata": {},
   "outputs": [
    {
     "data": {
      "text/plain": [
       "(<tf.Tensor: shape=(3, 2), dtype=int32, numpy=\n",
       " array([[1, 2],\n",
       "        [3, 4],\n",
       "        [5, 6]])>,\n",
       " <tf.Tensor: shape=(3, 2), dtype=int32, numpy=\n",
       " array([[ 7,  8],\n",
       "        [ 9, 10],\n",
       "        [11, 12]])>)"
      ]
     },
     "execution_count": 55,
     "metadata": {},
     "output_type": "execute_result"
    }
   ],
   "source": [
    "X, Y"
   ]
  },
  {
   "cell_type": "code",
   "execution_count": 56,
   "id": "brazilian-wilderness",
   "metadata": {},
   "outputs": [
    {
     "data": {
      "text/plain": [
       "<tf.Tensor: shape=(2, 2), dtype=int32, numpy=\n",
       "array([[ 89,  98],\n",
       "       [116, 128]])>"
      ]
     },
     "execution_count": 56,
     "metadata": {},
     "output_type": "execute_result"
    }
   ],
   "source": [
    "# transpose X\n",
    "tf.tensordot(tf.transpose(X), Y, axes =1)"
   ]
  },
  {
   "cell_type": "code",
   "execution_count": 57,
   "id": "worse-bradley",
   "metadata": {},
   "outputs": [
    {
     "data": {
      "text/plain": [
       "<tf.Tensor: shape=(3, 3), dtype=int32, numpy=\n",
       "array([[ 23,  29,  35],\n",
       "       [ 53,  67,  81],\n",
       "       [ 83, 105, 127]])>"
      ]
     },
     "execution_count": 57,
     "metadata": {},
     "output_type": "execute_result"
    }
   ],
   "source": [
    "# perform matrix multiplication between X and Y (transposed)\n",
    "tf.matmul(X, tf.transpose(Y))"
   ]
  },
  {
   "cell_type": "code",
   "execution_count": 58,
   "id": "infrared-graduate",
   "metadata": {},
   "outputs": [
    {
     "data": {
      "text/plain": [
       "<tf.Tensor: shape=(3, 3), dtype=int32, numpy=\n",
       "array([[ 27,  30,  33],\n",
       "       [ 61,  68,  75],\n",
       "       [ 95, 106, 117]])>"
      ]
     },
     "execution_count": 58,
     "metadata": {},
     "output_type": "execute_result"
    }
   ],
   "source": [
    "# perform matrix multiplication between X and Y (reshaped)\n",
    "tf.matmul(X, tf.reshape(Y, shape=(2,3)))"
   ]
  },
  {
   "cell_type": "code",
   "execution_count": 59,
   "id": "radio-shooting",
   "metadata": {},
   "outputs": [
    {
     "name": "stdout",
     "output_type": "stream",
     "text": [
      "Normal Y:\n",
      "tf.Tensor(\n",
      "[[ 7  8]\n",
      " [ 9 10]\n",
      " [11 12]], shape=(3, 2), dtype=int32) \n",
      "\n",
      "Reshaped Y:\n",
      "tf.Tensor(\n",
      "[[ 7  8  9]\n",
      " [10 11 12]], shape=(2, 3), dtype=int32) \n",
      "\n",
      "Transposed Y:\n",
      "tf.Tensor(\n",
      "[[ 7  9 11]\n",
      " [ 8 10 12]], shape=(2, 3), dtype=int32)\n"
     ]
    }
   ],
   "source": [
    "# check the values of Y, reshaped Y and transposed Y\n",
    "print('Normal Y:')\n",
    "print(Y, '\\n')\n",
    "\n",
    "print('Reshaped Y:')\n",
    "print(tf.reshape(Y, shape=(2,3)), '\\n')\n",
    "\n",
    "print('Transposed Y:')\n",
    "print(tf.transpose(Y))"
   ]
  },
  {
   "cell_type": "markdown",
   "id": "liberal-casting",
   "metadata": {},
   "source": [
    "Generally when perform matrix multiplication on two tensors and one of the axes doesn't line up, you will transpose rather than reshape one of the tensors to satify the matrix multiplication rules"
   ]
  },
  {
   "cell_type": "markdown",
   "id": "subtle-relation",
   "metadata": {},
   "source": [
    "## 6. Changing the datatype of a tensor"
   ]
  },
  {
   "cell_type": "code",
   "execution_count": 60,
   "id": "compressed-trade",
   "metadata": {},
   "outputs": [
    {
     "data": {
      "text/plain": [
       "tf.float32"
      ]
     },
     "execution_count": 60,
     "metadata": {},
     "output_type": "execute_result"
    }
   ],
   "source": [
    "# create a new tensor with default datatype (float32)\n",
    "B =tf.constant([1.7,7.4])\n",
    "B.dtype"
   ]
  },
  {
   "cell_type": "code",
   "execution_count": 61,
   "id": "unusual-pontiac",
   "metadata": {},
   "outputs": [
    {
     "data": {
      "text/plain": [
       "tf.int32"
      ]
     },
     "execution_count": 61,
     "metadata": {},
     "output_type": "execute_result"
    }
   ],
   "source": [
    "c = tf.constant([7,10])\n",
    "c.dtype"
   ]
  },
  {
   "cell_type": "code",
   "execution_count": 62,
   "id": "delayed-firewall",
   "metadata": {},
   "outputs": [
    {
     "data": {
      "text/plain": [
       "<tf.Tensor: shape=(2,), dtype=float16, numpy=array([1.7, 7.4], dtype=float16)>"
      ]
     },
     "execution_count": 62,
     "metadata": {},
     "output_type": "execute_result"
    }
   ],
   "source": [
    "# change from float32 to float16 --> reduced precision and half the memory and hence, increase speed\n",
    "B = tf.cast(B, dtype=tf.float16)\n",
    "B"
   ]
  },
  {
   "cell_type": "code",
   "execution_count": 63,
   "id": "sunrise-solomon",
   "metadata": {},
   "outputs": [
    {
     "data": {
      "text/plain": [
       "<tf.Tensor: shape=(2,), dtype=float32, numpy=array([ 7., 10.], dtype=float32)>"
      ]
     },
     "execution_count": 63,
     "metadata": {},
     "output_type": "execute_result"
    }
   ],
   "source": [
    "# change from int32 to float 32\n",
    "c = tf.cast(c, dtype=tf.float32)\n",
    "c"
   ]
  },
  {
   "cell_type": "code",
   "execution_count": 64,
   "id": "compact-intent",
   "metadata": {},
   "outputs": [
    {
     "data": {
      "text/plain": [
       "<tf.Tensor: shape=(2,), dtype=float16, numpy=array([ 7., 10.], dtype=float16)>"
      ]
     },
     "execution_count": 64,
     "metadata": {},
     "output_type": "execute_result"
    }
   ],
   "source": [
    "c = tf.cast(c, dtype=tf.float16)\n",
    "c"
   ]
  },
  {
   "cell_type": "markdown",
   "id": "killing-cross",
   "metadata": {},
   "source": [
    "## 7. Aggregating Tensors\n",
    "\n",
    "Aggregating tensors = condensing them from multiple values down to a smaller amount of values."
   ]
  },
  {
   "cell_type": "code",
   "execution_count": 65,
   "id": "focal-priority",
   "metadata": {},
   "outputs": [
    {
     "data": {
      "text/plain": [
       "<tf.Tensor: shape=(2,), dtype=int32, numpy=array([ -7, -10])>"
      ]
     },
     "execution_count": 65,
     "metadata": {},
     "output_type": "execute_result"
    }
   ],
   "source": [
    "# Create a new tensor\n",
    "D = tf.constant([-7,-10])\n",
    "D"
   ]
  },
  {
   "cell_type": "code",
   "execution_count": 66,
   "id": "upper-architecture",
   "metadata": {},
   "outputs": [
    {
     "data": {
      "text/plain": [
       "<tf.Tensor: shape=(2,), dtype=int32, numpy=array([ 7, 10])>"
      ]
     },
     "execution_count": 66,
     "metadata": {},
     "output_type": "execute_result"
    }
   ],
   "source": [
    "# Get the absolute values\n",
    "tf.abs(D)"
   ]
  },
  {
   "cell_type": "markdown",
   "id": "listed-mortgage",
   "metadata": {},
   "source": [
    "Let's go through the following forms of aggregation:  \n",
    "- Get the minimum  \n",
    "- Get the maximum  \n",
    "- Get the mean of a tensor  \n",
    "- Get the sum of a tensor"
   ]
  },
  {
   "cell_type": "code",
   "execution_count": 67,
   "id": "pregnant-mouse",
   "metadata": {},
   "outputs": [
    {
     "data": {
      "text/plain": [
       "<tf.Tensor: shape=(50,), dtype=int32, numpy=\n",
       "array([16, 84, 11, 42, 56, 81, 45, 15, 81, 94, 34, 69, 40, 47, 79, 39, 75,\n",
       "       37, 34, 56, 84, 68, 89, 65, 48, 77, 85, 51, 34, 62,  4,  3, 53, 66,\n",
       "       91, 18, 13, 98, 93, 92, 11, 89, 69, 83, 66, 22, 50, 82, 82, 84])>"
      ]
     },
     "execution_count": 67,
     "metadata": {},
     "output_type": "execute_result"
    }
   ],
   "source": [
    "# Create a random tensor with values between 0 and 100 of size 50\n",
    "E = tf.constant(np.random.randint(0,100, size=50))\n",
    "E"
   ]
  },
  {
   "cell_type": "code",
   "execution_count": 68,
   "id": "norwegian-economics",
   "metadata": {},
   "outputs": [
    {
     "data": {
      "text/plain": [
       "(<tf.Tensor: shape=(), dtype=int32, numpy=50>, 1, TensorShape([50]))"
      ]
     },
     "execution_count": 68,
     "metadata": {},
     "output_type": "execute_result"
    }
   ],
   "source": [
    "tf.size(E), E.ndim, E.shape"
   ]
  },
  {
   "cell_type": "code",
   "execution_count": 69,
   "id": "confident-destiny",
   "metadata": {},
   "outputs": [
    {
     "data": {
      "text/plain": [
       "<tf.Tensor: shape=(), dtype=int32, numpy=3>"
      ]
     },
     "execution_count": 69,
     "metadata": {},
     "output_type": "execute_result"
    }
   ],
   "source": [
    "# Find the minimum of a tensor\n",
    "tf.reduce_min(E)"
   ]
  },
  {
   "cell_type": "code",
   "execution_count": 70,
   "id": "human-committee",
   "metadata": {},
   "outputs": [
    {
     "data": {
      "text/plain": [
       "<tf.Tensor: shape=(), dtype=int32, numpy=98>"
      ]
     },
     "execution_count": 70,
     "metadata": {},
     "output_type": "execute_result"
    }
   ],
   "source": [
    "# find the maximum of a tensor\n",
    "tf.reduce_max(E)"
   ]
  },
  {
   "cell_type": "code",
   "execution_count": 71,
   "id": "liable-partnership",
   "metadata": {},
   "outputs": [
    {
     "data": {
      "text/plain": [
       "<tf.Tensor: shape=(), dtype=int32, numpy=57>"
      ]
     },
     "execution_count": 71,
     "metadata": {},
     "output_type": "execute_result"
    }
   ],
   "source": [
    "# find the mean of a tensor\n",
    "tf.reduce_mean(E)"
   ]
  },
  {
   "cell_type": "code",
   "execution_count": 72,
   "id": "sweet-tamil",
   "metadata": {},
   "outputs": [
    {
     "data": {
      "text/plain": [
       "<tf.Tensor: shape=(), dtype=int32, numpy=2867>"
      ]
     },
     "execution_count": 72,
     "metadata": {},
     "output_type": "execute_result"
    }
   ],
   "source": [
    "# find the sum of a tensor\n",
    "tf.reduce_sum(E)"
   ]
  },
  {
   "cell_type": "code",
   "execution_count": 73,
   "id": "minute-plasma",
   "metadata": {},
   "outputs": [
    {
     "data": {
      "text/plain": [
       "<tf.Tensor: shape=(), dtype=float32, numpy=760.46436>"
      ]
     },
     "execution_count": 73,
     "metadata": {},
     "output_type": "execute_result"
    }
   ],
   "source": [
    "# find the variance of a tensor (note, tensor must be real or complex number)\n",
    "E = tf.cast(E, dtype=tf.float32)\n",
    "tf.math.reduce_variance(E)"
   ]
  },
  {
   "cell_type": "code",
   "execution_count": 74,
   "id": "brilliant-treaty",
   "metadata": {},
   "outputs": [
    {
     "data": {
      "text/plain": [
       "<tf.Tensor: shape=(), dtype=float32, numpy=27.576519>"
      ]
     },
     "execution_count": 74,
     "metadata": {},
     "output_type": "execute_result"
    }
   ],
   "source": [
    "# find the std deviation of a tensor (note, tensor must be real or complex number)\n",
    "tf.math.reduce_std(E)"
   ]
  },
  {
   "cell_type": "markdown",
   "id": "physical-intermediate",
   "metadata": {},
   "source": [
    "## 8. Find the positional maximum and minimum"
   ]
  },
  {
   "cell_type": "code",
   "execution_count": 75,
   "id": "modern-orientation",
   "metadata": {},
   "outputs": [
    {
     "data": {
      "text/plain": [
       "<tf.Tensor: shape=(50,), dtype=float32, numpy=\n",
       "array([0.6645621 , 0.44100678, 0.3528825 , 0.46448255, 0.03366041,\n",
       "       0.68467236, 0.74011743, 0.8724445 , 0.22632635, 0.22319686,\n",
       "       0.3103881 , 0.7223358 , 0.13318717, 0.5480639 , 0.5746088 ,\n",
       "       0.8996835 , 0.00946367, 0.5212307 , 0.6345445 , 0.1993283 ,\n",
       "       0.72942245, 0.54583454, 0.10756552, 0.6767061 , 0.6602763 ,\n",
       "       0.33695042, 0.60141766, 0.21062577, 0.8527372 , 0.44062173,\n",
       "       0.9485276 , 0.23752594, 0.81179297, 0.5263394 , 0.494308  ,\n",
       "       0.21612847, 0.8457197 , 0.8718841 , 0.3083862 , 0.6868038 ,\n",
       "       0.23764038, 0.7817228 , 0.9671384 , 0.06870162, 0.79873943,\n",
       "       0.66028714, 0.5871513 , 0.16461694, 0.7381023 , 0.32054043],\n",
       "      dtype=float32)>"
      ]
     },
     "execution_count": 75,
     "metadata": {},
     "output_type": "execute_result"
    }
   ],
   "source": [
    "# Create a new tensor for finding positional minimum and maximum\n",
    "tf.random.set_seed(42)\n",
    "F = tf.random.uniform(shape=[50])\n",
    "F"
   ]
  },
  {
   "cell_type": "code",
   "execution_count": 76,
   "id": "graduate-happening",
   "metadata": {},
   "outputs": [
    {
     "data": {
      "text/plain": [
       "<tf.Tensor: shape=(), dtype=int64, numpy=42>"
      ]
     },
     "execution_count": 76,
     "metadata": {},
     "output_type": "execute_result"
    }
   ],
   "source": [
    "# get the position of the max element in tensor\n",
    "tf.argmax(F)"
   ]
  },
  {
   "cell_type": "code",
   "execution_count": 77,
   "id": "elegant-volume",
   "metadata": {},
   "outputs": [
    {
     "data": {
      "text/plain": [
       "<tf.Tensor: shape=(), dtype=float32, numpy=0.9671384>"
      ]
     },
     "execution_count": 77,
     "metadata": {},
     "output_type": "execute_result"
    }
   ],
   "source": [
    "# index on our largest value position\n",
    "F[tf.argmax(F)]"
   ]
  },
  {
   "cell_type": "code",
   "execution_count": 78,
   "id": "packed-harrison",
   "metadata": {},
   "outputs": [
    {
     "data": {
      "text/plain": [
       "<tf.Tensor: shape=(), dtype=float32, numpy=0.9671384>"
      ]
     },
     "execution_count": 78,
     "metadata": {},
     "output_type": "execute_result"
    }
   ],
   "source": [
    "tf.reduce_max(F)"
   ]
  },
  {
   "cell_type": "code",
   "execution_count": 79,
   "id": "progressive-joining",
   "metadata": {},
   "outputs": [
    {
     "data": {
      "text/plain": [
       "<tf.Tensor: shape=(), dtype=bool, numpy=True>"
      ]
     },
     "execution_count": 79,
     "metadata": {},
     "output_type": "execute_result"
    }
   ],
   "source": [
    "# check for equality\n",
    "F[tf.argmax(F)] == tf.reduce_max(F)"
   ]
  },
  {
   "cell_type": "code",
   "execution_count": 80,
   "id": "lovely-trainer",
   "metadata": {},
   "outputs": [
    {
     "data": {
      "text/plain": [
       "<tf.Tensor: shape=(), dtype=int64, numpy=16>"
      ]
     },
     "execution_count": 80,
     "metadata": {},
     "output_type": "execute_result"
    }
   ],
   "source": [
    "# get the position of the minimum element in tensor\n",
    "tf.argmin(F)"
   ]
  },
  {
   "cell_type": "code",
   "execution_count": 81,
   "id": "tropical-ratio",
   "metadata": {},
   "outputs": [
    {
     "data": {
      "text/plain": [
       "<tf.Tensor: shape=(), dtype=float32, numpy=0.009463668>"
      ]
     },
     "execution_count": 81,
     "metadata": {},
     "output_type": "execute_result"
    }
   ],
   "source": [
    "# check minimum value using positional min index\n",
    "F[tf.argmin(F)]"
   ]
  },
  {
   "cell_type": "code",
   "execution_count": 82,
   "id": "spanish-preservation",
   "metadata": {},
   "outputs": [
    {
     "data": {
      "text/plain": [
       "<tf.Tensor: shape=(), dtype=bool, numpy=True>"
      ]
     },
     "execution_count": 82,
     "metadata": {},
     "output_type": "execute_result"
    }
   ],
   "source": [
    "# check for equality between the value obtained from the index position and the min\n",
    "F[tf.argmin(F)] == tf.reduce_min(F)"
   ]
  },
  {
   "cell_type": "markdown",
   "id": "composite-balance",
   "metadata": {},
   "source": [
    "## 9. Squeezing a tensor (removing all single dimensions)"
   ]
  },
  {
   "cell_type": "code",
   "execution_count": 83,
   "id": "dried-mechanics",
   "metadata": {},
   "outputs": [
    {
     "data": {
      "text/plain": [
       "<tf.Tensor: shape=(1, 1, 1, 1, 50), dtype=float32, numpy=\n",
       "array([[[[[0.68789124, 0.48447883, 0.9309944 , 0.252187  , 0.73115396,\n",
       "           0.89256823, 0.94674826, 0.7493341 , 0.34925628, 0.54718256,\n",
       "           0.26160395, 0.69734323, 0.11962581, 0.53484344, 0.7148968 ,\n",
       "           0.87501776, 0.33967495, 0.17377627, 0.4418521 , 0.9008261 ,\n",
       "           0.13803864, 0.12217975, 0.5754491 , 0.9417181 , 0.9186585 ,\n",
       "           0.59708476, 0.6109482 , 0.82086265, 0.83269787, 0.8915849 ,\n",
       "           0.01377225, 0.49807465, 0.57503664, 0.6856195 , 0.75972784,\n",
       "           0.908944  , 0.40900218, 0.8765154 , 0.53890026, 0.42733097,\n",
       "           0.401173  , 0.66623247, 0.16348064, 0.18220246, 0.97040176,\n",
       "           0.06139731, 0.53034747, 0.9869994 , 0.4746945 , 0.8646754 ]]]]],\n",
       "      dtype=float32)>"
      ]
     },
     "execution_count": 83,
     "metadata": {},
     "output_type": "execute_result"
    }
   ],
   "source": [
    "# create a tensor to get started\n",
    "G = tf.constant(tf.random.uniform(shape=[50]), shape=(1,1,1,1,50))\n",
    "G"
   ]
  },
  {
   "cell_type": "code",
   "execution_count": 84,
   "id": "common-colony",
   "metadata": {},
   "outputs": [
    {
     "data": {
      "text/plain": [
       "TensorShape([1, 1, 1, 1, 50])"
      ]
     },
     "execution_count": 84,
     "metadata": {},
     "output_type": "execute_result"
    }
   ],
   "source": [
    "G.shape"
   ]
  },
  {
   "cell_type": "code",
   "execution_count": 85,
   "id": "neutral-prisoner",
   "metadata": {},
   "outputs": [
    {
     "data": {
      "text/plain": [
       "(<tf.Tensor: shape=(50,), dtype=float32, numpy=\n",
       " array([0.68789124, 0.48447883, 0.9309944 , 0.252187  , 0.73115396,\n",
       "        0.89256823, 0.94674826, 0.7493341 , 0.34925628, 0.54718256,\n",
       "        0.26160395, 0.69734323, 0.11962581, 0.53484344, 0.7148968 ,\n",
       "        0.87501776, 0.33967495, 0.17377627, 0.4418521 , 0.9008261 ,\n",
       "        0.13803864, 0.12217975, 0.5754491 , 0.9417181 , 0.9186585 ,\n",
       "        0.59708476, 0.6109482 , 0.82086265, 0.83269787, 0.8915849 ,\n",
       "        0.01377225, 0.49807465, 0.57503664, 0.6856195 , 0.75972784,\n",
       "        0.908944  , 0.40900218, 0.8765154 , 0.53890026, 0.42733097,\n",
       "        0.401173  , 0.66623247, 0.16348064, 0.18220246, 0.97040176,\n",
       "        0.06139731, 0.53034747, 0.9869994 , 0.4746945 , 0.8646754 ],\n",
       "       dtype=float32)>,\n",
       " TensorShape([50]))"
      ]
     },
     "execution_count": 85,
     "metadata": {},
     "output_type": "execute_result"
    }
   ],
   "source": [
    "G_squeezed = tf.squeeze(G)\n",
    "G_squeezed, G_squeezed.shape"
   ]
  },
  {
   "cell_type": "code",
   "execution_count": 86,
   "id": "according-logistics",
   "metadata": {},
   "outputs": [
    {
     "data": {
      "text/plain": [
       "1"
      ]
     },
     "execution_count": 86,
     "metadata": {},
     "output_type": "execute_result"
    }
   ],
   "source": [
    "G_squeezed.ndim"
   ]
  },
  {
   "cell_type": "code",
   "execution_count": 87,
   "id": "attempted-travel",
   "metadata": {},
   "outputs": [
    {
     "data": {
      "text/plain": [
       "<tf.Tensor: shape=(1, 2, 3, 4), dtype=float32, numpy=\n",
       "array([[[[0.7413678 , 0.62854624, 0.01738465, 0.3431449 ],\n",
       "         [0.51063764, 0.3777541 , 0.07321596, 0.02137029],\n",
       "         [0.2871771 , 0.4710616 , 0.6936141 , 0.07321334]],\n",
       "\n",
       "        [[0.93251204, 0.20843053, 0.70105827, 0.45856392],\n",
       "         [0.8596262 , 0.92934334, 0.20291913, 0.76865506],\n",
       "         [0.60016024, 0.27039742, 0.88180614, 0.05365038]]]],\n",
       "      dtype=float32)>"
      ]
     },
     "execution_count": 87,
     "metadata": {},
     "output_type": "execute_result"
    }
   ],
   "source": [
    "# create a tensor to get started\n",
    "G_another = tf.constant(tf.random.uniform(shape=[24]), shape=(1,2,3,4))\n",
    "G_another"
   ]
  },
  {
   "cell_type": "code",
   "execution_count": 88,
   "id": "dynamic-muscle",
   "metadata": {},
   "outputs": [
    {
     "data": {
      "text/plain": [
       "(<tf.Tensor: shape=(2, 3, 4), dtype=float32, numpy=\n",
       " array([[[0.7413678 , 0.62854624, 0.01738465, 0.3431449 ],\n",
       "         [0.51063764, 0.3777541 , 0.07321596, 0.02137029],\n",
       "         [0.2871771 , 0.4710616 , 0.6936141 , 0.07321334]],\n",
       " \n",
       "        [[0.93251204, 0.20843053, 0.70105827, 0.45856392],\n",
       "         [0.8596262 , 0.92934334, 0.20291913, 0.76865506],\n",
       "         [0.60016024, 0.27039742, 0.88180614, 0.05365038]]], dtype=float32)>,\n",
       " TensorShape([2, 3, 4]))"
      ]
     },
     "execution_count": 88,
     "metadata": {},
     "output_type": "execute_result"
    }
   ],
   "source": [
    "# squeeze the tensor\n",
    "G_another_sq = tf.squeeze(G_another)\n",
    "G_another_sq, G_another_sq.shape"
   ]
  },
  {
   "cell_type": "code",
   "execution_count": 89,
   "id": "intermediate-depth",
   "metadata": {},
   "outputs": [
    {
     "data": {
      "text/plain": [
       "TensorShape([1, 2, 3, 4])"
      ]
     },
     "execution_count": 89,
     "metadata": {},
     "output_type": "execute_result"
    }
   ],
   "source": [
    "# get back the original shape using expand dims\n",
    "G_another_org = tf.expand_dims(G_another_sq, axis=0) # expand on axis 0\n",
    "G_another_org.shape"
   ]
  },
  {
   "cell_type": "markdown",
   "id": "blond-mauritius",
   "metadata": {},
   "source": [
    "## 10. One-hot encoding tensors"
   ]
  },
  {
   "cell_type": "code",
   "execution_count": 90,
   "id": "jewish-territory",
   "metadata": {},
   "outputs": [
    {
     "data": {
      "text/plain": [
       "<tf.Tensor: shape=(4, 4), dtype=float32, numpy=\n",
       "array([[1., 0., 0., 0.],\n",
       "       [0., 1., 0., 0.],\n",
       "       [0., 0., 1., 0.],\n",
       "       [0., 0., 0., 1.]], dtype=float32)>"
      ]
     },
     "execution_count": 90,
     "metadata": {},
     "output_type": "execute_result"
    }
   ],
   "source": [
    "# create a list of indices\n",
    "some_list = [0,1,2,3] # could be red, green, blue, purple\n",
    "\n",
    "# one hot encode our list of indices\n",
    "tf.one_hot(some_list, depth=4)"
   ]
  },
  {
   "cell_type": "code",
   "execution_count": 91,
   "id": "dress-latter",
   "metadata": {},
   "outputs": [
    {
     "data": {
      "text/plain": [
       "<tf.Tensor: shape=(4, 4), dtype=string, numpy=\n",
       "array([[b'have fun', b'not fun', b'not fun', b'not fun'],\n",
       "       [b'not fun', b'have fun', b'not fun', b'not fun'],\n",
       "       [b'not fun', b'not fun', b'have fun', b'not fun'],\n",
       "       [b'not fun', b'not fun', b'not fun', b'have fun']], dtype=object)>"
      ]
     },
     "execution_count": 91,
     "metadata": {},
     "output_type": "execute_result"
    }
   ],
   "source": [
    "# Specify custom values for one hot encoding\n",
    "tf.one_hot(some_list, depth=4, on_value='have fun', off_value='not fun')\n"
   ]
  },
  {
   "cell_type": "markdown",
   "id": "prompt-movement",
   "metadata": {},
   "source": [
    "## 11. Squaring, log, square root"
   ]
  },
  {
   "cell_type": "code",
   "execution_count": 92,
   "id": "challenging-allah",
   "metadata": {},
   "outputs": [
    {
     "data": {
      "text/plain": [
       "<tf.Tensor: shape=(9,), dtype=int32, numpy=array([1, 2, 3, 4, 5, 6, 7, 8, 9])>"
      ]
     },
     "execution_count": 92,
     "metadata": {},
     "output_type": "execute_result"
    }
   ],
   "source": [
    "# create a new tensor\n",
    "H = tf.range(1,10)\n",
    "H"
   ]
  },
  {
   "cell_type": "code",
   "execution_count": 93,
   "id": "romantic-number",
   "metadata": {},
   "outputs": [
    {
     "data": {
      "text/plain": [
       "<tf.Tensor: shape=(9,), dtype=int32, numpy=array([ 1,  4,  9, 16, 25, 36, 49, 64, 81])>"
      ]
     },
     "execution_count": 93,
     "metadata": {},
     "output_type": "execute_result"
    }
   ],
   "source": [
    "# square it\n",
    "tf.square(H)"
   ]
  },
  {
   "cell_type": "code",
   "execution_count": 94,
   "id": "piano-massachusetts",
   "metadata": {},
   "outputs": [
    {
     "data": {
      "text/plain": [
       "<tf.Tensor: shape=(9,), dtype=float32, numpy=\n",
       "array([1.       , 1.4142135, 1.7320508, 2.       , 2.236068 , 2.4494898,\n",
       "       2.6457512, 2.828427 , 3.       ], dtype=float32)>"
      ]
     },
     "execution_count": 94,
     "metadata": {},
     "output_type": "execute_result"
    }
   ],
   "source": [
    "# square root (tensor has to have appropriate dtype)\n",
    "tf.sqrt(tf.cast(H, dtype=tf.float32))"
   ]
  },
  {
   "cell_type": "code",
   "execution_count": 95,
   "id": "placed-archives",
   "metadata": {},
   "outputs": [
    {
     "data": {
      "text/plain": [
       "<tf.Tensor: shape=(9,), dtype=float32, numpy=\n",
       "array([0.       , 0.6931472, 1.0986123, 1.3862944, 1.609438 , 1.7917595,\n",
       "       1.9459102, 2.0794415, 2.1972246], dtype=float32)>"
      ]
     },
     "execution_count": 95,
     "metadata": {},
     "output_type": "execute_result"
    }
   ],
   "source": [
    "# Find the log (tensor has to have appropriate dtype)\n",
    "tf.math.log(tf.cast(H, dtype=tf.float32))"
   ]
  },
  {
   "cell_type": "markdown",
   "id": "vocal-forum",
   "metadata": {},
   "source": [
    "### 12. Tensors and NumPy\n",
    "\n",
    "TensorFlow interacts beautifully with NumPy arrays."
   ]
  },
  {
   "cell_type": "code",
   "execution_count": 96,
   "id": "tight-today",
   "metadata": {},
   "outputs": [
    {
     "data": {
      "text/plain": [
       "<tf.Tensor: shape=(3,), dtype=float64, numpy=array([ 3.,  7., 10.])>"
      ]
     },
     "execution_count": 96,
     "metadata": {},
     "output_type": "execute_result"
    }
   ],
   "source": [
    "# Create a tensor directly from a NumPy array\n",
    "J = tf.constant(np.array([3.,7.,10.]))\n",
    "J"
   ]
  },
  {
   "cell_type": "code",
   "execution_count": 97,
   "id": "educational-finish",
   "metadata": {},
   "outputs": [
    {
     "data": {
      "text/plain": [
       "(array([ 3.,  7., 10.]), numpy.ndarray)"
      ]
     },
     "execution_count": 97,
     "metadata": {},
     "output_type": "execute_result"
    }
   ],
   "source": [
    "# Convert our tensor back to NumPy array\n",
    "np.array(J), type(np.array(J))"
   ]
  },
  {
   "cell_type": "code",
   "execution_count": 98,
   "id": "mental-colony",
   "metadata": {},
   "outputs": [
    {
     "data": {
      "text/plain": [
       "(array([ 3.,  7., 10.]), numpy.ndarray)"
      ]
     },
     "execution_count": 98,
     "metadata": {},
     "output_type": "execute_result"
    }
   ],
   "source": [
    "# Convert tensor J to a NumPy array\n",
    "J.numpy(), type(J.numpy())"
   ]
  },
  {
   "cell_type": "code",
   "execution_count": 99,
   "id": "martial-fitting",
   "metadata": {},
   "outputs": [
    {
     "data": {
      "text/plain": [
       "3.0"
      ]
     },
     "execution_count": 99,
     "metadata": {},
     "output_type": "execute_result"
    }
   ],
   "source": [
    "J = tf.constant([3.])\n",
    "J.numpy()[0]"
   ]
  },
  {
   "cell_type": "code",
   "execution_count": 100,
   "id": "previous-completion",
   "metadata": {},
   "outputs": [
    {
     "data": {
      "text/plain": [
       "(tf.float64, tf.float32)"
      ]
     },
     "execution_count": 100,
     "metadata": {},
     "output_type": "execute_result"
    }
   ],
   "source": [
    "# The defult types of each are slightly different\n",
    "numpy_J = tf.constant(np.array([3.,7.,10.]))\n",
    "tensor_J = tf.constant([3.,7.,10.])\n",
    "\n",
    "# check the datatypes of each (note the difference)\n",
    "numpy_J.dtype, tensor_J.dtype"
   ]
  },
  {
   "cell_type": "markdown",
   "id": "entire-brighton",
   "metadata": {},
   "source": [
    "## 13 Checkpoint to test learnings\n",
    "\n",
    "a. Create a vector, scalar, matrix and tensor with values of your choosing using tf.constant().  \n",
    "b. Find the shape, rank and size of the tensors you created in 1.  \n",
    "c. Create two tensors containing random values between 0 and 1 with shape [5, 300].  \n",
    "d. Multiply the two tensors you created in 3 using matrix multiplication.  \n",
    "e. Multiply the two tensors you created in 3 using dot product.  \n",
    "f. Create a tensor with random values between 0 and 1 with shape [224, 224, 3].  \n",
    "g. Find the min and max values of the tensor you created in 6.  \n",
    "h. Created a tensor with random values of shape [1, 224, 224, 3] then squeeze it to change the shape to [224, 224, 3].  \n",
    "i. Create a tensor with shape [10] using your own choice of values, then find the index which has the maximum value.  \n",
    "j. One-hot encode the tensor you created in 9.  "
   ]
  },
  {
   "cell_type": "code",
   "execution_count": 103,
   "id": "invalid-bacon",
   "metadata": {},
   "outputs": [
    {
     "name": "stdout",
     "output_type": "stream",
     "text": [
      "tensor vector: tf.Tensor([1. 2. 3.], shape=(3,), dtype=float32)\n",
      "\n",
      "tensor scalar: tf.Tensor(49.0, shape=(), dtype=float32)\n",
      "\n",
      "tensor matrix: tf.Tensor(\n",
      "[[1. 2. 3.]\n",
      " [4. 5. 6.]\n",
      " [7. 8. 9.]], shape=(3, 3), dtype=float32)\n",
      "\n",
      "tensor: tf.Tensor(\n",
      "[[[ 1.  2.  3.]\n",
      "  [ 4.  5.  6.]]\n",
      "\n",
      " [[ 7.  8.  9.]\n",
      "  [10. 11. 12.]]], shape=(2, 2, 3), dtype=float32)\n"
     ]
    }
   ],
   "source": [
    "# a. create a vector, scalar, matrix and tensor with values of your choosing using tf.constant()\n",
    "tensor_vec = tf.constant([1.,2.,3.])\n",
    "tensor_sca = tf.constant(49.)\n",
    "tensor_mat = tf.constant([[1.,2.,3.],\n",
    "                         [4.,5.,6.],\n",
    "                         [7.,8.,9]])\n",
    "tensor_ten = tf.constant([[[1.,2.,3.],[4.,5.,6.]],\n",
    "                         [[7.,8.,9.], [10.,11.,12.]]])\n",
    "\n",
    "print('tensor vector:', tensor_vec)\n",
    "print('\\ntensor scalar:', tensor_sca)\n",
    "print('\\ntensor matrix:', tensor_mat)\n",
    "print('\\ntensor:', tensor_ten)"
   ]
  },
  {
   "cell_type": "code",
   "execution_count": 104,
   "id": "accessory-tension",
   "metadata": {},
   "outputs": [
    {
     "name": "stdout",
     "output_type": "stream",
     "text": [
      "Scalar:\n",
      "shape: ()\n",
      "rank: 0\n",
      "size: tf.Tensor(1, shape=(), dtype=int32)\n",
      "\n",
      "Vector:\n",
      "shape: (3,)\n",
      "rank: 1\n",
      "size: tf.Tensor(3, shape=(), dtype=int32)\n",
      "\n",
      "Matrix:\n",
      "shape: (3, 3)\n",
      "rank: 2\n",
      "size: tf.Tensor(9, shape=(), dtype=int32)\n",
      "\n",
      "Tensor:\n",
      "shape: (2, 2, 3)\n",
      "rank: 3\n",
      "size: tf.Tensor(12, shape=(), dtype=int32)\n"
     ]
    }
   ],
   "source": [
    "# b. find the shape, rank and size of the tensors you created in a.\n",
    "print('Scalar:')\n",
    "print('shape:', tensor_sca.shape)\n",
    "print('rank:', tensor_sca.ndim)\n",
    "print('size:', tf.size(tensor_sca))\n",
    "\n",
    "print('\\nVector:')\n",
    "print('shape:', tensor_vec.shape)\n",
    "print('rank:', tensor_vec.ndim)\n",
    "print('size:', tf.size(tensor_vec))\n",
    "\n",
    "print('\\nMatrix:')\n",
    "print('shape:', tensor_mat.shape)\n",
    "print('rank:', tensor_mat.ndim)\n",
    "print('size:', tf.size(tensor_mat))\n",
    "\n",
    "print('\\nTensor:')\n",
    "print('shape:', tensor_ten.shape)\n",
    "print('rank:', tensor_ten.ndim)\n",
    "print('size:', tf.size(tensor_ten))\n",
    "\n"
   ]
  },
  {
   "cell_type": "code",
   "execution_count": 105,
   "id": "supported-creation",
   "metadata": {},
   "outputs": [
    {
     "data": {
      "text/plain": [
       "(<tf.Tensor: shape=(5, 300), dtype=float32, numpy=\n",
       " array([[0.7402308 , 0.33938193, 0.5692506 , ..., 0.08656633, 0.19666708,\n",
       "         0.7110305 ],\n",
       "        [0.13257599, 0.81292987, 0.01284087, ..., 0.02695906, 0.2927854 ,\n",
       "         0.06227863],\n",
       "        [0.282601  , 0.47868013, 0.77569485, ..., 0.28239357, 0.632112  ,\n",
       "         0.44452012],\n",
       "        [0.02029276, 0.7841259 , 0.16919017, ..., 0.26143157, 0.43055534,\n",
       "         0.47421408],\n",
       "        [0.2616079 , 0.00913954, 0.20257103, ..., 0.3548187 , 0.9939178 ,\n",
       "         0.35239196]], dtype=float32)>,\n",
       " <tf.Tensor: shape=(5, 300), dtype=float32, numpy=\n",
       " array([[0.803156  , 0.49777734, 0.37054038, ..., 0.42893624, 0.49179256,\n",
       "         0.39297235],\n",
       "        [0.14517438, 0.72666824, 0.80103934, ..., 0.832801  , 0.649397  ,\n",
       "         0.29312778],\n",
       "        [0.4216962 , 0.6768439 , 0.5627917 , ..., 0.56929183, 0.90308595,\n",
       "         0.31530714],\n",
       "        [0.6198498 , 0.70206463, 0.994668  , ..., 0.03745186, 0.23192072,\n",
       "         0.23984468],\n",
       "        [0.01790595, 0.40531397, 0.5369972 , ..., 0.62693167, 0.47887897,\n",
       "         0.25383985]], dtype=float32)>)"
      ]
     },
     "execution_count": 105,
     "metadata": {},
     "output_type": "execute_result"
    }
   ],
   "source": [
    "# c. Create two tensors containing random values between 0 and 1 with shape [5, 300].\n",
    "\n",
    "tensor_1 = tf.random.uniform(shape=[5,300], minval=0, maxval=1, dtype=tf.float32)\n",
    "tensor_2 = tf.random.uniform(shape=[5,300], minval=0, maxval=1, dtype=tf.float32)\n",
    "\n",
    "tensor_1, tensor_2"
   ]
  },
  {
   "cell_type": "code",
   "execution_count": 109,
   "id": "awful-profession",
   "metadata": {},
   "outputs": [
    {
     "data": {
      "text/plain": [
       "<tf.Tensor: shape=(5, 5), dtype=float32, numpy=\n",
       "array([[72.34169 , 73.843315, 71.9973  , 69.78643 , 68.59812 ],\n",
       "       [76.299805, 75.77641 , 71.65502 , 72.104355, 75.29942 ],\n",
       "       [72.80916 , 75.74101 , 71.199   , 73.04656 , 71.714485],\n",
       "       [74.654816, 76.64436 , 73.32848 , 72.21242 , 73.30908 ],\n",
       "       [77.44371 , 78.68228 , 71.98375 , 72.70096 , 72.917274]],\n",
       "      dtype=float32)>"
      ]
     },
     "execution_count": 109,
     "metadata": {},
     "output_type": "execute_result"
    }
   ],
   "source": [
    "# d. Multiply the two tensors you created in 3 using matrix multiplication.\n",
    "tf.matmul(tensor_1, tf.transpose(tensor_2))"
   ]
  },
  {
   "cell_type": "code",
   "execution_count": 113,
   "id": "personalized-evanescence",
   "metadata": {},
   "outputs": [
    {
     "data": {
      "text/plain": [
       "<tf.Tensor: shape=(5, 5), dtype=float32, numpy=\n",
       "array([[72.34169 , 73.843315, 71.9973  , 69.78643 , 68.59812 ],\n",
       "       [76.299805, 75.77641 , 71.65502 , 72.104355, 75.29942 ],\n",
       "       [72.80916 , 75.74101 , 71.199   , 73.04656 , 71.714485],\n",
       "       [74.654816, 76.64436 , 73.32848 , 72.21242 , 73.30908 ],\n",
       "       [77.44371 , 78.68228 , 71.98375 , 72.70096 , 72.917274]],\n",
       "      dtype=float32)>"
      ]
     },
     "execution_count": 113,
     "metadata": {},
     "output_type": "execute_result"
    }
   ],
   "source": [
    "# e. Multiply the two tensors you created in 3 using dot product.\n",
    "tf.tensordot(tensor_1, tf.transpose(tensor_2), axes=1)"
   ]
  },
  {
   "cell_type": "code",
   "execution_count": 114,
   "id": "suited-chester",
   "metadata": {},
   "outputs": [
    {
     "data": {
      "text/plain": [
       "<tf.Tensor: shape=(224, 224, 3), dtype=float32, numpy=\n",
       "array([[[0.95831835, 0.01680839, 0.3156035 ],\n",
       "        [0.16013157, 0.7148702 , 0.7892921 ],\n",
       "        [0.11484027, 0.33310425, 0.21091413],\n",
       "        ...,\n",
       "        [0.6279857 , 0.85051286, 0.9490392 ],\n",
       "        [0.62438786, 0.2802421 , 0.18754554],\n",
       "        [0.9087832 , 0.46846092, 0.5317346 ]],\n",
       "\n",
       "       [[0.85744655, 0.51288927, 0.18603599],\n",
       "        [0.04882693, 0.78045344, 0.79377043],\n",
       "        [0.9356363 , 0.32798207, 0.15949786],\n",
       "        ...,\n",
       "        [0.6933085 , 0.5420611 , 0.1860913 ],\n",
       "        [0.7326596 , 0.9234495 , 0.07200372],\n",
       "        [0.5471792 , 0.24985266, 0.14673471]],\n",
       "\n",
       "       [[0.5033684 , 0.7000841 , 0.21468806],\n",
       "        [0.9304948 , 0.17212296, 0.720364  ],\n",
       "        [0.6657183 , 0.17304075, 0.7110392 ],\n",
       "        ...,\n",
       "        [0.35423398, 0.126225  , 0.24436975],\n",
       "        [0.096439  , 0.06387579, 0.32836854],\n",
       "        [0.15067935, 0.6084572 , 0.47766674]],\n",
       "\n",
       "       ...,\n",
       "\n",
       "       [[0.23573959, 0.42224514, 0.9151635 ],\n",
       "        [0.38158715, 0.32973826, 0.5171102 ],\n",
       "        [0.06080973, 0.31411576, 0.22626662],\n",
       "        ...,\n",
       "        [0.5705669 , 0.4921385 , 0.09957004],\n",
       "        [0.7411188 , 0.02490544, 0.6451397 ],\n",
       "        [0.87311184, 0.7771938 , 0.7208451 ]],\n",
       "\n",
       "       [[0.9943476 , 0.7494216 , 0.04249358],\n",
       "        [0.0224061 , 0.5791631 , 0.7543137 ],\n",
       "        [0.84515274, 0.6103951 , 0.5505407 ],\n",
       "        ...,\n",
       "        [0.1359564 , 0.47180867, 0.4215784 ],\n",
       "        [0.1299932 , 0.5381433 , 0.71466696],\n",
       "        [0.15192771, 0.8817011 , 0.2109077 ]],\n",
       "\n",
       "       [[0.603493  , 0.16534615, 0.6985712 ],\n",
       "        [0.15773225, 0.8743893 , 0.58997643],\n",
       "        [0.80147445, 0.37448967, 0.8073541 ],\n",
       "        ...,\n",
       "        [0.65353775, 0.7825564 , 0.45476055],\n",
       "        [0.45565426, 0.39367366, 0.925439  ],\n",
       "        [0.05451977, 0.5806842 , 0.01799083]]], dtype=float32)>"
      ]
     },
     "execution_count": 114,
     "metadata": {},
     "output_type": "execute_result"
    }
   ],
   "source": [
    "# f. Create a tensor with random values between 0 and 1 with shape [224, 224, 3].\n",
    "tensor_rand = tf.random.uniform(shape=(224,224,3), minval=0, maxval=1)\n",
    "tensor_rand"
   ]
  },
  {
   "cell_type": "code",
   "execution_count": 117,
   "id": "flush-combining",
   "metadata": {},
   "outputs": [
    {
     "name": "stdout",
     "output_type": "stream",
     "text": [
      "min value of the tensor: 1.1444092e-05\n",
      "max value of the tensor: 0.99999726\n"
     ]
    }
   ],
   "source": [
    "# g. Find the min and max values of the tensor you created in 6.\n",
    "print('min value of the tensor:', tf.reduce_min(tensor_rand).numpy())\n",
    "print('max value of the tensor:', tf.reduce_max(tensor_rand).numpy())"
   ]
  },
  {
   "cell_type": "code",
   "execution_count": 118,
   "id": "competitive-scroll",
   "metadata": {},
   "outputs": [
    {
     "data": {
      "text/plain": [
       "TensorShape([224, 224, 3])"
      ]
     },
     "execution_count": 118,
     "metadata": {},
     "output_type": "execute_result"
    }
   ],
   "source": [
    "# h. Created a tensor with random values of shape [1, 224, 224, 3] then squeeze it to change the shape to [224, 224, 3].\n",
    "tensor_rand2 = tf.random.uniform(shape=[1,224,224,3])\n",
    "tensor_rand2_sq = tf.squeeze(tensor_rand2)\n",
    "tensor_rand2_sq.shape"
   ]
  },
  {
   "cell_type": "code",
   "execution_count": 119,
   "id": "metallic-vacuum",
   "metadata": {},
   "outputs": [
    {
     "name": "stdout",
     "output_type": "stream",
     "text": [
      "Positional Index with maximum value: tf.Tensor(9, shape=(), dtype=int64)\n",
      "largest value of tensor: tf.Tensor(10.0, shape=(), dtype=float32)\n"
     ]
    }
   ],
   "source": [
    "# i. Create a tensor with shape [10] using your own choice of values, then find the index which has the maximum value.\n",
    "tensor_n = tf.constant([1.,2.,3.,4.,5.,6.,7.,8.,9.,10.])\n",
    "print('Positional Index with maximum value:', tf.argmax(tensor_n))\n",
    "print('largest value of tensor:', tensor_n[tf.argmax(tensor_n)])"
   ]
  },
  {
   "cell_type": "code",
   "execution_count": 125,
   "id": "introductory-replica",
   "metadata": {},
   "outputs": [
    {
     "data": {
      "text/plain": [
       "<tf.Tensor: shape=(10, 10), dtype=float32, numpy=\n",
       "array([[0., 1., 0., 0., 0., 0., 0., 0., 0., 0.],\n",
       "       [0., 0., 1., 0., 0., 0., 0., 0., 0., 0.],\n",
       "       [0., 0., 0., 1., 0., 0., 0., 0., 0., 0.],\n",
       "       [0., 0., 0., 0., 1., 0., 0., 0., 0., 0.],\n",
       "       [0., 0., 0., 0., 0., 1., 0., 0., 0., 0.],\n",
       "       [0., 0., 0., 0., 0., 0., 1., 0., 0., 0.],\n",
       "       [0., 0., 0., 0., 0., 0., 0., 1., 0., 0.],\n",
       "       [0., 0., 0., 0., 0., 0., 0., 0., 1., 0.],\n",
       "       [0., 0., 0., 0., 0., 0., 0., 0., 0., 1.],\n",
       "       [0., 0., 0., 0., 0., 0., 0., 0., 0., 0.]], dtype=float32)>"
      ]
     },
     "execution_count": 125,
     "metadata": {},
     "output_type": "execute_result"
    }
   ],
   "source": [
    "# j. One-hot encode the tensor you created in 9.\n",
    "tf.one_hot(tf.cast(tensor_n, dtype=tf.int32), depth=10)"
   ]
  },
  {
   "cell_type": "code",
   "execution_count": null,
   "id": "consistent-shoot",
   "metadata": {},
   "outputs": [],
   "source": []
  }
 ],
 "metadata": {
  "kernelspec": {
   "display_name": "Python 3",
   "language": "python",
   "name": "python3"
  },
  "language_info": {
   "codemirror_mode": {
    "name": "ipython",
    "version": 3
   },
   "file_extension": ".py",
   "mimetype": "text/x-python",
   "name": "python",
   "nbconvert_exporter": "python",
   "pygments_lexer": "ipython3",
   "version": "3.6.12"
  }
 },
 "nbformat": 4,
 "nbformat_minor": 5
}
